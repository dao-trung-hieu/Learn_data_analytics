{
  "cells": [
    {
      "cell_type": "markdown",
      "metadata": {
        "id": "3f8LUk6GC9PL"
      },
      "source": [
        "# A. Problem Statement"
      ]
    },
    {
      "cell_type": "markdown",
      "metadata": {
        "id": "EOP1WYBzC9PN"
      },
      "source": [
        "Bank ABC offers home loans. Customers apply for a loan and wait until it is approved successfully.\n",
        "- The company wants to build a rapid appraisal model based on information provided by customers to save costs.\n",
        "- The problem is to identify customer segments to speed up the company's workflow"
      ]
    },
    {
      "cell_type": "markdown",
      "metadata": {
        "id": "U23VDEfUC9PN"
      },
      "source": [
        "It is a classification problem where we have to predict whether a loan would be approved or not. \n",
        "- Determine this is a binary classification problem: yes or no"
      ]
    },
    {
      "cell_type": "markdown",
      "metadata": {
        "id": "syWra45QC9PN"
      },
      "source": [
        "Hypothesis before going to analyze:\n",
        "- Financial ability: with the higher the income, the easier it is to repay the bank debt\n",
        "- Previous loan history: applicants  who have paid their debts before are more likely to gain the trust of the bank\n",
        "- Loan amount: the smaller the loan, the easier it is to get approved\n",
        "- Loan term: Loan for less time period and less amount should have higher chances of approval.\n",
        "- EMI: Lesser the amount to be paid monthly to repay the loan, higher the chances of loan approval.\n"
      ]
    },
    {
      "cell_type": "markdown",
      "metadata": {
        "id": "Le9Tc4C8C9PN"
      },
      "source": [
        "# B. Data analysis"
      ]
    },
    {
      "cell_type": "markdown",
      "metadata": {
        "id": "d0J54sk4C9PO"
      },
      "source": [
        "## I. Import data"
      ]
    },
    {
      "cell_type": "code",
      "execution_count": 1,
      "metadata": {
        "id": "R_62LHbiC9PO"
      },
      "outputs": [],
      "source": [
        "import pandas as pd\n",
        "import numpy as np\n",
        "import matplotlib.pyplot as plt\n",
        "import seaborn as sns\n",
        "\n",
        "%matplotlib inline\n",
        "import warnings\n",
        "warnings.filterwarnings(\"ignore\")"
      ]
    },
    {
      "cell_type": "code",
      "execution_count": 4,
      "metadata": {
        "colab": {
          "base_uri": "https://localhost:8080/"
        },
        "id": "fJpb9ftgEC8z",
        "outputId": "b4299606-3e6a-414d-a835-c6474fea1804"
      },
      "outputs": [],
      "source": [
        "data = pd.read_csv('train.csv')"
      ]
    },
    {
      "cell_type": "code",
      "execution_count": 5,
      "metadata": {
        "colab": {
          "base_uri": "https://localhost:8080/",
          "height": 206
        },
        "id": "5ZxEo7dpC9PP",
        "outputId": "2f939a95-019c-4761-da31-9c1b641d67d8"
      },
      "outputs": [
        {
          "data": {
            "text/html": [
              "<div>\n",
              "<style scoped>\n",
              "    .dataframe tbody tr th:only-of-type {\n",
              "        vertical-align: middle;\n",
              "    }\n",
              "\n",
              "    .dataframe tbody tr th {\n",
              "        vertical-align: top;\n",
              "    }\n",
              "\n",
              "    .dataframe thead th {\n",
              "        text-align: right;\n",
              "    }\n",
              "</style>\n",
              "<table border=\"1\" class=\"dataframe\">\n",
              "  <thead>\n",
              "    <tr style=\"text-align: right;\">\n",
              "      <th></th>\n",
              "      <th>Loan_ID</th>\n",
              "      <th>Gender</th>\n",
              "      <th>Married</th>\n",
              "      <th>Dependents</th>\n",
              "      <th>Education</th>\n",
              "      <th>Self_Employed</th>\n",
              "      <th>ApplicantIncome</th>\n",
              "      <th>CoapplicantIncome</th>\n",
              "      <th>LoanAmount</th>\n",
              "      <th>Loan_Amount_Term</th>\n",
              "      <th>Credit_History</th>\n",
              "      <th>Property_Area</th>\n",
              "      <th>Loan_Status</th>\n",
              "    </tr>\n",
              "  </thead>\n",
              "  <tbody>\n",
              "    <tr>\n",
              "      <th>0</th>\n",
              "      <td>LP001002</td>\n",
              "      <td>Male</td>\n",
              "      <td>No</td>\n",
              "      <td>0</td>\n",
              "      <td>Graduate</td>\n",
              "      <td>No</td>\n",
              "      <td>5849</td>\n",
              "      <td>0.0</td>\n",
              "      <td>NaN</td>\n",
              "      <td>360.0</td>\n",
              "      <td>1.0</td>\n",
              "      <td>Urban</td>\n",
              "      <td>Y</td>\n",
              "    </tr>\n",
              "    <tr>\n",
              "      <th>1</th>\n",
              "      <td>LP001003</td>\n",
              "      <td>Male</td>\n",
              "      <td>Yes</td>\n",
              "      <td>1</td>\n",
              "      <td>Graduate</td>\n",
              "      <td>No</td>\n",
              "      <td>4583</td>\n",
              "      <td>1508.0</td>\n",
              "      <td>128.0</td>\n",
              "      <td>360.0</td>\n",
              "      <td>1.0</td>\n",
              "      <td>Rural</td>\n",
              "      <td>N</td>\n",
              "    </tr>\n",
              "    <tr>\n",
              "      <th>2</th>\n",
              "      <td>LP001005</td>\n",
              "      <td>Male</td>\n",
              "      <td>Yes</td>\n",
              "      <td>0</td>\n",
              "      <td>Graduate</td>\n",
              "      <td>Yes</td>\n",
              "      <td>3000</td>\n",
              "      <td>0.0</td>\n",
              "      <td>66.0</td>\n",
              "      <td>360.0</td>\n",
              "      <td>1.0</td>\n",
              "      <td>Urban</td>\n",
              "      <td>Y</td>\n",
              "    </tr>\n",
              "    <tr>\n",
              "      <th>3</th>\n",
              "      <td>LP001006</td>\n",
              "      <td>Male</td>\n",
              "      <td>Yes</td>\n",
              "      <td>0</td>\n",
              "      <td>Not Graduate</td>\n",
              "      <td>No</td>\n",
              "      <td>2583</td>\n",
              "      <td>2358.0</td>\n",
              "      <td>120.0</td>\n",
              "      <td>360.0</td>\n",
              "      <td>1.0</td>\n",
              "      <td>Urban</td>\n",
              "      <td>Y</td>\n",
              "    </tr>\n",
              "    <tr>\n",
              "      <th>4</th>\n",
              "      <td>LP001008</td>\n",
              "      <td>Male</td>\n",
              "      <td>No</td>\n",
              "      <td>0</td>\n",
              "      <td>Graduate</td>\n",
              "      <td>No</td>\n",
              "      <td>6000</td>\n",
              "      <td>0.0</td>\n",
              "      <td>141.0</td>\n",
              "      <td>360.0</td>\n",
              "      <td>1.0</td>\n",
              "      <td>Urban</td>\n",
              "      <td>Y</td>\n",
              "    </tr>\n",
              "  </tbody>\n",
              "</table>\n",
              "</div>"
            ],
            "text/plain": [
              "    Loan_ID Gender Married Dependents     Education Self_Employed  \\\n",
              "0  LP001002   Male      No          0      Graduate            No   \n",
              "1  LP001003   Male     Yes          1      Graduate            No   \n",
              "2  LP001005   Male     Yes          0      Graduate           Yes   \n",
              "3  LP001006   Male     Yes          0  Not Graduate            No   \n",
              "4  LP001008   Male      No          0      Graduate            No   \n",
              "\n",
              "   ApplicantIncome  CoapplicantIncome  LoanAmount  Loan_Amount_Term  \\\n",
              "0             5849                0.0         NaN             360.0   \n",
              "1             4583             1508.0       128.0             360.0   \n",
              "2             3000                0.0        66.0             360.0   \n",
              "3             2583             2358.0       120.0             360.0   \n",
              "4             6000                0.0       141.0             360.0   \n",
              "\n",
              "   Credit_History Property_Area Loan_Status  \n",
              "0             1.0         Urban           Y  \n",
              "1             1.0         Rural           N  \n",
              "2             1.0         Urban           Y  \n",
              "3             1.0         Urban           Y  \n",
              "4             1.0         Urban           Y  "
            ]
          },
          "execution_count": 5,
          "metadata": {},
          "output_type": "execute_result"
        }
      ],
      "source": [
        "data.head()"
      ]
    },
    {
      "cell_type": "code",
      "execution_count": 6,
      "metadata": {
        "colab": {
          "base_uri": "https://localhost:8080/"
        },
        "id": "qRfZ21gjC9PQ",
        "outputId": "7b66779f-312a-4d16-996b-874392ad8fb7"
      },
      "outputs": [
        {
          "data": {
            "text/plain": [
              "(614, 13)"
            ]
          },
          "execution_count": 6,
          "metadata": {},
          "output_type": "execute_result"
        }
      ],
      "source": [
        "data.shape"
      ]
    },
    {
      "cell_type": "code",
      "execution_count": 7,
      "metadata": {
        "colab": {
          "base_uri": "https://localhost:8080/"
        },
        "id": "Wmt90lR4C9PQ",
        "outputId": "e546cc3c-a5eb-4c53-8f2d-ace2b374305f"
      },
      "outputs": [
        {
          "data": {
            "text/plain": [
              "Index(['Loan_ID', 'Gender', 'Married', 'Dependents', 'Education',\n",
              "       'Self_Employed', 'ApplicantIncome', 'CoapplicantIncome', 'LoanAmount',\n",
              "       'Loan_Amount_Term', 'Credit_History', 'Property_Area', 'Loan_Status'],\n",
              "      dtype='object')"
            ]
          },
          "execution_count": 7,
          "metadata": {},
          "output_type": "execute_result"
        }
      ],
      "source": [
        "data.columns"
      ]
    },
    {
      "cell_type": "markdown",
      "metadata": {
        "id": "hB1HD5XPC9PQ"
      },
      "source": [
        "- Variable Descriptions:\n",
        "\n",
        "\n",
        "| Variable          \t| Description                                    \t|\n",
        "|-------------------\t|------------------------------------------------\t|\n",
        "| Loan_ID           \t| Unique Loan ID                                 \t|\n",
        "| Gender            \t| Male/ Female                                   \t|\n",
        "| Married           \t| Applicant married (Yes/No)                        \t|\n",
        "| Dependents        \t| Number of dependents(1,2,3+)                          \t|\n",
        "| Education         \t| Applicant Education (Graduate/ Under Graduate) \t|\n",
        "| Self_Employed     \t| Self employed (Yes/No)                            \t|\n",
        "| ApplicantIncome   \t| Applicant income                               \t|\n",
        "| CoapplicantIncome \t| Coapplicant income                             \t|\n",
        "| LoanAmount        \t| Loan amount in thousands                       \t|\n",
        "| Loan_Amount_Term  \t| Term of loan in months                         \t|\n",
        "| Credit_History    \t| credit history meets guidelines                \t|\n",
        "| Property_Area     \t| Urban/ Semi Urban/ Rural                       \t|\n",
        "| Loan_Status       \t| Loan approved (Y/N)                            \t|\n"
      ]
    },
    {
      "cell_type": "code",
      "execution_count": 8,
      "metadata": {
        "id": "arVSKnIVC9PR"
      },
      "outputs": [],
      "source": [
        "# drop the columns that are not needed, 'Loan_ID' \n",
        "data = data.drop(['Loan_ID'], axis=1)"
      ]
    },
    {
      "cell_type": "markdown",
      "metadata": {
        "id": "hMJqloZEC9PR"
      },
      "source": [
        "## II. EDA, Exploratory Data Analysis"
      ]
    },
    {
      "cell_type": "markdown",
      "metadata": {
        "id": "boCxX2dvC9PR"
      },
      "source": [
        "### Variable classification"
      ]
    },
    {
      "cell_type": "markdown",
      "metadata": {
        "id": "_JwuBG3zC9PR"
      },
      "source": [
        "- Categorical data: \n",
        "- - Norminal data: Gender, Married, Credit_History,  Loan_Status, Education, Self_Employed, Property_Area\n",
        "- - Ordinal data:  Dependents, Loan_Amount_Term\n",
        "- Numerical data:\n",
        "- - Countinous data: ApplicantIncome, CoapplicantIncome\n",
        "- - Discrete data: LoanAmount"
      ]
    },
    {
      "cell_type": "markdown",
      "metadata": {
        "id": "jHQ_TV8FC9PR"
      },
      "source": [
        "### Loan profile status"
      ]
    },
    {
      "cell_type": "code",
      "execution_count": 9,
      "metadata": {
        "id": "s2b4jjm7C9PS"
      },
      "outputs": [],
      "source": [
        "sns.set_style('darkgrid')"
      ]
    },
    {
      "cell_type": "code",
      "execution_count": 10,
      "metadata": {
        "colab": {
          "base_uri": "https://localhost:8080/",
          "height": 319
        },
        "id": "9SnJASk6C9PS",
        "outputId": "9361fc01-9f60-45a6-cfb6-4acb0a1c6f4e"
      },
      "outputs": [
        {
          "data": {
            "image/png": "[encoded data removed]",
            "text/plain": [
              "<Figure size 360x360 with 1 Axes>"
            ]
          },
          "metadata": {},
          "output_type": "display_data"
        }
      ],
      "source": [
        "# Loan_Status is the target variable\n",
        "Loan_Status = data['Loan_Status'].value_counts(normalize=True)\n",
        "fig, ax = plt.subplots(figsize=(5,5))\n",
        "ax.pie(Loan_Status, labels=Loan_Status.index, autopct='%1.1f%%')\n",
        "ax.axis('equal')\n",
        "ax.set_title('Loan Status')\n",
        "plt.show()"
      ]
    },
    {
      "cell_type": "code",
      "execution_count": 11,
      "metadata": {
        "colab": {
          "base_uri": "https://localhost:8080/",
          "height": 369
        },
        "id": "l0GOUcJ6C9PS",
        "outputId": "b9521c55-e8d8-4bad-a221-461272e0814e"
      },
      "outputs": [
        {
          "data": {
            "image/png": "[encoded data removed]",
            "text/plain": [
              "<Figure size 360x360 with 1 Axes>"
            ]
          },
          "metadata": {},
          "output_type": "display_data"
        }
      ],
      "source": [
        "# Histogram of 'Loan_Amount'\n",
        "sns.displot(data['LoanAmount'], bins=40,kde=True)\n",
        "plt.show()"
      ]
    },
    {
      "cell_type": "markdown",
      "metadata": {
        "id": "2YO1M1H9C9PS"
      },
      "source": [
        "- Loan Approval Status: About 2/3rd of applicants have been granted loan.\n",
        "- Loan Amount: the data is skewed towards one side."
      ]
    },
    {
      "cell_type": "code",
      "execution_count": 12,
      "metadata": {
        "colab": {
          "base_uri": "https://localhost:8080/",
          "height": 296
        },
        "id": "oizFVvmrC9PS",
        "outputId": "d5804dc6-0080-471d-d953-8d2d59434ae1"
      },
      "outputs": [
        {
          "data": {
            "text/plain": [
              "<AxesSubplot:xlabel='ApplicantIncome', ylabel='LoanAmount'>"
            ]
          },
          "execution_count": 12,
          "metadata": {},
          "output_type": "execute_result"
        },
        {
          "data": {
            "image/png": "[encoded data removed]",
            "text/plain": [
              "<Figure size 432x288 with 1 Axes>"
            ]
          },
          "metadata": {},
          "output_type": "display_data"
        }
      ],
      "source": [
        "sns.scatterplot(data=data, x='ApplicantIncome', y='LoanAmount')"
      ]
    },
    {
      "cell_type": "markdown",
      "metadata": {
        "id": "rR0VzANNC9PS"
      },
      "source": [
        "### Who need a loan?"
      ]
    },
    {
      "cell_type": "code",
      "execution_count": 13,
      "metadata": {
        "id": "oxBdCbHNC9PS"
      },
      "outputs": [],
      "source": [
        "categorical_columns = ['Gender', 'Married', 'Dependents', 'Education', 'Self_Employed', 'Property_Area','Credit_History','Loan_Amount_Term']"
      ]
    },
    {
      "cell_type": "code",
      "execution_count": 14,
      "metadata": {
        "colab": {
          "base_uri": "https://localhost:8080/",
          "height": 771
        },
        "id": "UfhxDoc1C9PS",
        "outputId": "5ceef1d4-7d31-41d2-aeff-13c9ebdaaaf6"
      },
      "outputs": [
        {
          "data": {
            "image/png": "[encoded data removed]",
            "text/plain": [
              "<Figure size 1872x936 with 8 Axes>"
            ]
          },
          "metadata": {},
          "output_type": "display_data"
        }
      ],
      "source": [
        "fig, axs = plt.subplots(ncols=4, nrows=2, figsize= (26, 13))\n",
        "for idx,column in enumerate(categorical_columns):\n",
        "    row,col = idx//4, idx%4\n",
        "    ax = sns.countplot(x=column, data=data, ax=axs[row,col])\n",
        "    # ax.bar_label(ax.containers[0])\n",
        "plt.subplots_adjust(hspace=0.4, wspace=0.4)"
      ]
    },
    {
      "cell_type": "markdown",
      "metadata": {
        "id": "p_gjIlE9C9PT"
      },
      "source": [
        "Who needs a loan? It's:\n",
        "- Sex: Man are more than Women\n",
        "- Martial Status: Married applicants are more likely to be granted loans.\n",
        "- Dependents: Majority of the population have zero dependents and are also likely to be accepted for loan.\n",
        "- Education: The population is Graduate and have higher propotion of loan approval\n",
        "- Employment: It seems that self-employed people need a loan\n",
        "- Property Area: More applicants from Semi-urban and also likely to be granted loans\n",
        "- Credit History: Applicant with credit history are far more likely to be accepted\n",
        "- Loan Amount Term: Majority of the loans taken are for 360 Months (30 years)."
      ]
    },
    {
      "cell_type": "markdown",
      "metadata": {
        "id": "znTPoMZTC9PT"
      },
      "source": [
        "### Is \"who are you\" the deciding factor?"
      ]
    },
    {
      "cell_type": "code",
      "execution_count": 15,
      "metadata": {
        "colab": {
          "base_uri": "https://localhost:8080/",
          "height": 651
        },
        "id": "sahgYjx-C9PT",
        "outputId": "2c81e4cd-c66e-4387-83e6-e216ebd0159b"
      },
      "outputs": [
        {
          "data": {
            "image/png": "[encoded data removed]",
            "text/plain": [
              "<Figure size 1440x720 with 8 Axes>"
            ]
          },
          "metadata": {},
          "output_type": "display_data"
        }
      ],
      "source": [
        "fig, axs = plt.subplots(ncols=4, nrows=2, figsize=(20, 10))\n",
        "for idx,column in enumerate(categorical_columns):\n",
        "    row,col = idx//4, idx%4\n",
        "    df = pd.crosstab(data[column], data['Loan_Status'])\n",
        "    df.div(df.sum(1).astype(float), axis=0).plot(kind='bar', stacked=True, ax=axs[row,col])\n",
        "plt.subplots_adjust(hspace=0.4, wspace=0.2)    "
      ]
    },
    {
      "cell_type": "markdown",
      "metadata": {
        "id": "VClFc0ZfC9PT"
      },
      "source": [
        "There are 2 factors that strongly influence the loan approval: Credit History and Loan Amount Term\n",
        "- Credit History: Having a credit history is a plus\n",
        "- Loan Amount Term: Most applications for a long term loan of 360 months are approved successfully"
      ]
    },
    {
      "cell_type": "markdown",
      "metadata": {
        "id": "eVKrXgZYC9PT"
      },
      "source": [
        "### Financial ability"
      ]
    },
    {
      "cell_type": "code",
      "execution_count": 16,
      "metadata": {
        "colab": {
          "base_uri": "https://localhost:8080/",
          "height": 300
        },
        "id": "R625nIhAC9PT",
        "outputId": "113324fa-09e9-4aa7-c48b-355ac8112aa7"
      },
      "outputs": [
        {
          "data": {
            "text/html": [
              "<div>\n",
              "<style scoped>\n",
              "    .dataframe tbody tr th:only-of-type {\n",
              "        vertical-align: middle;\n",
              "    }\n",
              "\n",
              "    .dataframe tbody tr th {\n",
              "        vertical-align: top;\n",
              "    }\n",
              "\n",
              "    .dataframe thead th {\n",
              "        text-align: right;\n",
              "    }\n",
              "</style>\n",
              "<table border=\"1\" class=\"dataframe\">\n",
              "  <thead>\n",
              "    <tr style=\"text-align: right;\">\n",
              "      <th></th>\n",
              "      <th>ApplicantIncome</th>\n",
              "      <th>CoapplicantIncome</th>\n",
              "      <th>LoanAmount</th>\n",
              "    </tr>\n",
              "  </thead>\n",
              "  <tbody>\n",
              "    <tr>\n",
              "      <th>count</th>\n",
              "      <td>614.000000</td>\n",
              "      <td>614.000000</td>\n",
              "      <td>592.000000</td>\n",
              "    </tr>\n",
              "    <tr>\n",
              "      <th>mean</th>\n",
              "      <td>5403.459283</td>\n",
              "      <td>1621.245798</td>\n",
              "      <td>146.412162</td>\n",
              "    </tr>\n",
              "    <tr>\n",
              "      <th>std</th>\n",
              "      <td>6109.041673</td>\n",
              "      <td>2926.248369</td>\n",
              "      <td>85.587325</td>\n",
              "    </tr>\n",
              "    <tr>\n",
              "      <th>min</th>\n",
              "      <td>150.000000</td>\n",
              "      <td>0.000000</td>\n",
              "      <td>9.000000</td>\n",
              "    </tr>\n",
              "    <tr>\n",
              "      <th>25%</th>\n",
              "      <td>2877.500000</td>\n",
              "      <td>0.000000</td>\n",
              "      <td>100.000000</td>\n",
              "    </tr>\n",
              "    <tr>\n",
              "      <th>50%</th>\n",
              "      <td>3812.500000</td>\n",
              "      <td>1188.500000</td>\n",
              "      <td>128.000000</td>\n",
              "    </tr>\n",
              "    <tr>\n",
              "      <th>75%</th>\n",
              "      <td>5795.000000</td>\n",
              "      <td>2297.250000</td>\n",
              "      <td>168.000000</td>\n",
              "    </tr>\n",
              "    <tr>\n",
              "      <th>max</th>\n",
              "      <td>81000.000000</td>\n",
              "      <td>41667.000000</td>\n",
              "      <td>700.000000</td>\n",
              "    </tr>\n",
              "  </tbody>\n",
              "</table>\n",
              "</div>"
            ],
            "text/plain": [
              "       ApplicantIncome  CoapplicantIncome  LoanAmount\n",
              "count       614.000000         614.000000  592.000000\n",
              "mean       5403.459283        1621.245798  146.412162\n",
              "std        6109.041673        2926.248369   85.587325\n",
              "min         150.000000           0.000000    9.000000\n",
              "25%        2877.500000           0.000000  100.000000\n",
              "50%        3812.500000        1188.500000  128.000000\n",
              "75%        5795.000000        2297.250000  168.000000\n",
              "max       81000.000000       41667.000000  700.000000"
            ]
          },
          "execution_count": 16,
          "metadata": {},
          "output_type": "execute_result"
        }
      ],
      "source": [
        "numerical_columns = ['ApplicantIncome', 'CoapplicantIncome', 'LoanAmount']\n",
        "data[numerical_columns].describe()"
      ]
    },
    {
      "cell_type": "code",
      "execution_count": 17,
      "metadata": {
        "colab": {
          "base_uri": "https://localhost:8080/",
          "height": 336
        },
        "id": "kw3Pq8a4NOA-",
        "outputId": "dacb15e7-2cab-4088-be7e-100da917f1b3"
      },
      "outputs": [
        {
          "data": {
            "image/png": "[encoded data removed]",
            "text/plain": [
              "<Figure size 1224x360 with 3 Axes>"
            ]
          },
          "metadata": {},
          "output_type": "display_data"
        }
      ],
      "source": [
        "fig,axes = plt.subplots(1,3,figsize=(17,5))\n",
        "for idx,cat_col in enumerate(numerical_columns):\n",
        "    sns.distplot(data[cat_col], ax=axes[idx])\n",
        "plt.subplots_adjust(hspace=1)   "
      ]
    },
    {
      "cell_type": "code",
      "execution_count": 18,
      "metadata": {
        "colab": {
          "base_uri": "https://localhost:8080/",
          "height": 334
        },
        "id": "KvmN6_9KNUB3",
        "outputId": "fa10830e-d2df-43fb-8d2c-87cf6fa5117e"
      },
      "outputs": [
        {
          "data": {
            "image/png": "[encoded data removed]",
            "text/plain": [
              "<Figure size 1224x360 with 3 Axes>"
            ]
          },
          "metadata": {},
          "output_type": "display_data"
        }
      ],
      "source": [
        "fig,axes = plt.subplots(1,3,figsize=(17,5))\n",
        "for idx,cat_col in enumerate(numerical_columns):\n",
        "    sns.boxplot(x=cat_col,data=data,ax=axes[idx])\n",
        "plt.subplots_adjust(hspace=1)"
      ]
    },
    {
      "cell_type": "code",
      "execution_count": 19,
      "metadata": {
        "colab": {
          "base_uri": "https://localhost:8080/",
          "height": 335
        },
        "id": "t7PyuFd4nqYI",
        "outputId": "f08d0500-8bed-41f2-e234-ad8cfdc2a713"
      },
      "outputs": [
        {
          "data": {
            "image/png": "[encoded data removed]",
            "text/plain": [
              "<Figure size 1224x360 with 3 Axes>"
            ]
          },
          "metadata": {},
          "output_type": "display_data"
        }
      ],
      "source": [
        "fig,axes = plt.subplots(1,3,figsize=(17,5))\n",
        "for idx,cat_col in enumerate(numerical_columns):\n",
        "    sns.violinplot(y=cat_col,data=data,x='Loan_Status',ax=axes[idx])\n",
        "plt.subplots_adjust(hspace=1)"
      ]
    },
    {
      "cell_type": "code",
      "execution_count": 20,
      "metadata": {
        "colab": {
          "base_uri": "https://localhost:8080/",
          "height": 335
        },
        "id": "5h072YYsC9PT",
        "outputId": "4437cf6c-fe2d-4828-c2ec-913064c0372b"
      },
      "outputs": [
        {
          "data": {
            "image/png": "[encoded data removed]",
            "text/plain": [
              "<Figure size 1440x360 with 3 Axes>"
            ]
          },
          "metadata": {},
          "output_type": "display_data"
        }
      ],
      "source": [
        "fig,axes = plt.subplots(1,3,figsize=(20,5))\n",
        "for idx,cat_col in enumerate(numerical_columns):\n",
        "    sns.boxplot(y=cat_col,data=data,x='Loan_Status',ax=axes[idx])\n",
        "plt.subplots_adjust(hspace=1)"
      ]
    },
    {
      "cell_type": "code",
      "execution_count": 21,
      "metadata": {
        "colab": {
          "base_uri": "https://localhost:8080/",
          "height": 318
        },
        "id": "EmYhvQe2C9PT",
        "outputId": "99e08b0b-2f53-48e4-8d76-8efcc90af28c"
      },
      "outputs": [
        {
          "data": {
            "image/png": "[encoded data removed]",
            "text/plain": [
              "<Figure size 432x288 with 1 Axes>"
            ]
          },
          "metadata": {},
          "output_type": "display_data"
        }
      ],
      "source": [
        "# Considering the applicant's income, divide it \n",
        "bins=[0,2900,3800,5800,81000] \n",
        "group=['Low','Average','High','Very High']\n",
        "Income_bin = pd.cut(data['ApplicantIncome'], bins,labels=group)\n",
        "Income_bin = pd.crosstab(Income_bin,data['Loan_Status']) \n",
        "Income_bin.div(Income_bin.sum(1).astype(float), axis=0).plot(kind=\"bar\", stacked=True) \n",
        "plt.xlabel('ApplicantIncome') \n",
        "P = plt.ylabel('Percentage')"
      ]
    },
    {
      "cell_type": "code",
      "execution_count": 22,
      "metadata": {
        "colab": {
          "base_uri": "https://localhost:8080/",
          "height": 310
        },
        "id": "766i6vzZC9PT",
        "outputId": "3cf782dd-7231-49c3-900b-30b6963f7da3"
      },
      "outputs": [
        {
          "data": {
            "image/png": "[encoded data removed]",
            "text/plain": [
              "<Figure size 432x288 with 1 Axes>"
            ]
          },
          "metadata": {},
          "output_type": "display_data"
        }
      ],
      "source": [
        "# By the total income of the co-applicant\n",
        "bins=[0,1200,2300,42000]\n",
        "group=['Low','Average','High',]\n",
        "Coapplicant_Income_bin = pd.cut(data['CoapplicantIncome'],bins,labels=group)\n",
        "Coapplicant_Income_bin = pd.crosstab(Coapplicant_Income_bin,data['Loan_Status']) \n",
        "Coapplicant_Income_bin.div(Coapplicant_Income_bin.sum(1).astype(float), axis=0).plot(kind=\"bar\", stacked=True) \n",
        "plt.xlabel('CoapplicantIncome') \n",
        "P = plt.ylabel('Percentage')"
      ]
    },
    {
      "cell_type": "code",
      "execution_count": 23,
      "metadata": {
        "colab": {
          "base_uri": "https://localhost:8080/",
          "height": 318
        },
        "id": "73pJKERQC9PU",
        "outputId": "27444a8f-ef33-43a5-8bca-21ececbaa263"
      },
      "outputs": [
        {
          "data": {
            "image/png": "[encoded data removed]",
            "text/plain": [
              "<Figure size 432x288 with 1 Axes>"
            ]
          },
          "metadata": {},
          "output_type": "display_data"
        }
      ],
      "source": [
        "# by the loan amount\n",
        "bins=[0,100,130,170,700] \n",
        "group=['Low','Average','High','Very High']\n",
        "LoanAmount_bin = pd.cut(data['LoanAmount'],bins,labels=group)\n",
        "LoanAmount_bin = pd.crosstab(LoanAmount_bin,data['Loan_Status']) \n",
        "LoanAmount_bin.div(LoanAmount_bin.sum(1).astype(float), axis=0).plot(kind=\"bar\", stacked=True) \n",
        "plt.xlabel('LoanAmount') \n",
        "P = plt.ylabel('Percentage')"
      ]
    },
    {
      "cell_type": "markdown",
      "metadata": {
        "id": "36_tPoBGC9PU"
      },
      "source": [
        "- It can be seen that the 3 factors: applicant's income, co-applicant, loan amount do not affect too much the chances of getting a loan approved.\n",
        "- This seems to contradict the original hypothesis."
      ]
    },
    {
      "cell_type": "markdown",
      "metadata": {
        "id": "9kUhVQvoC9PU"
      },
      "source": [
        "### Correlation"
      ]
    },
    {
      "cell_type": "code",
      "execution_count": 24,
      "metadata": {
        "id": "vDbYtecmC9PU"
      },
      "outputs": [],
      "source": [
        "correlation_data = data.corr()"
      ]
    },
    {
      "cell_type": "code",
      "execution_count": 25,
      "metadata": {
        "colab": {
          "base_uri": "https://localhost:8080/",
          "height": 356
        },
        "id": "mzr4GNJ4C9PU",
        "outputId": "6d96494f-54b9-4741-e8b2-857ff85da8f0"
      },
      "outputs": [
        {
          "data": {
            "image/png": "[encoded data removed]",
            "text/plain": [
              "<Figure size 432x288 with 2 Axes>"
            ]
          },
          "metadata": {},
          "output_type": "display_data"
        }
      ],
      "source": [
        "sns.heatmap(correlation_data, annot=True, cmap=plt.cm.Reds)\n",
        "plt.show()"
      ]
    },
    {
      "cell_type": "markdown",
      "metadata": {
        "id": "5QhTr3PzC9PU"
      },
      "source": [
        "There is a positive correlation between ApplicantIncome and LoanAmount"
      ]
    },
    {
      "cell_type": "code",
      "execution_count": 26,
      "metadata": {
        "colab": {
          "base_uri": "https://localhost:8080/",
          "height": 726
        },
        "id": "pU2s-hYVC9PU",
        "outputId": "8d890b2e-3943-486d-be8c-94f90186e529"
      },
      "outputs": [
        {
          "data": {
            "image/png": "[encoded data removed]",
            "text/plain": [
              "<Figure size 720x720 with 30 Axes>"
            ]
          },
          "metadata": {},
          "output_type": "display_data"
        }
      ],
      "source": [
        "sns.pairplot(correlation_data, diag_kind=\"kde\", size=2)\n",
        "plt.show()"
      ]
    },
    {
      "cell_type": "markdown",
      "metadata": {
        "id": "xu1yfvvr9v-p"
      },
      "source": [
        "### Hypothesis_Testing_Chi_Square_Statistics "
      ]
    },
    {
      "cell_type": "code",
      "execution_count": 27,
      "metadata": {
        "id": "GBNJAOQX9llA"
      },
      "outputs": [],
      "source": [
        "# The chi-square test is a non-parametric statistical test.\n",
        "# The chi-square test is used to test the independence of two or more categorical variables\n",
        "from scipy import stats\n",
        "from scipy.stats import chi2_contingency"
      ]
    },
    {
      "cell_type": "code",
      "execution_count": 28,
      "metadata": {
        "id": "rVMY08fC-OaY"
      },
      "outputs": [],
      "source": [
        "# H0:There is no relationship between feature x and feature y\n",
        "# H1:There is a relationship between feature x and feature y\n",
        "def test_hypothesis(feature_x, feature_y):\n",
        "    \"\"\"\n",
        "    Test the hypothesis that feature_x and feature_y are independent\n",
        "    \"\"\"\n",
        "    contingency_table = pd.crosstab(data[feature_x], data[feature_y])\n",
        "    chi2, p, dof, expected = stats.chi2_contingency(contingency_table)\n",
        "    alpha = 0.05\n",
        "    print('Observed Contingency Table:')\n",
        "    print(contingency_table)\n",
        "    print('Observed Value:')\n",
        "    print(contingency_table.values)\n",
        "    print('Expected Contingency Table:')\n",
        "    print(expected)\n",
        "    print(\"The degree of freedom is: %d\" % dof)\n",
        "    print(\"The chi-square test statistic is: %f\" % chi2)\n",
        "    print(\"Critical value is: %f\" % stats.chi2.ppf(q = 1 - alpha, df = dof))\n",
        "    print(\"The p-value is: %f\" % p)\n",
        "    print(\"The significant level is: \" + str(alpha))\n",
        "    if p < alpha:\n",
        "        print(\"p < alpha\")\n",
        "        print(\"We reject the null hypothesis\")\n",
        "        print(\"There is a relationship between \" + feature_x + \" and \" + feature_y)\n",
        "    else:\n",
        "        print(\"p > alpha\")\n",
        "        print(\"We cannot reject the null hypothesis\")\n",
        "        print(\"There is no relationship between \" + feature_x + \" and \" + feature_y)"
      ]
    },
    {
      "cell_type": "code",
      "execution_count": 29,
      "metadata": {
        "id": "AqSW_bSO-RQp"
      },
      "outputs": [
        {
          "name": "stdout",
          "output_type": "stream",
          "text": [
            "Observed Contingency Table:\n",
            "Loan_Status    N    Y\n",
            "Gender               \n",
            "Female        37   75\n",
            "Male         150  339\n",
            "Observed Value:\n",
            "[[ 37  75]\n",
            " [150 339]]\n",
            "Expected Contingency Table:\n",
            "[[ 34.84858569  77.15141431]\n",
            " [152.15141431 336.84858569]]\n",
            "The degree of freedom is: 1\n",
            "The chi-square test statistic is: 0.139626\n",
            "Critical value is: 3.841459\n",
            "The p-value is: 0.708653\n",
            "The significant level is: 0.05\n",
            "p > alpha\n",
            "We cannot reject the null hypothesis\n",
            "There is no relationship between Gender and Loan_Status\n"
          ]
        }
      ],
      "source": [
        "test_hypothesis('Gender', 'Loan_Status')"
      ]
    },
    {
      "cell_type": "code",
      "execution_count": 32,
      "metadata": {
        "id": "4KkAXh2JASnK"
      },
      "outputs": [
        {
          "name": "stdout",
          "output_type": "stream",
          "text": [
            "Observed Contingency Table:\n",
            "Loan_Status     N    Y\n",
            "Property_Area         \n",
            "Rural          69  110\n",
            "Semiurban      54  179\n",
            "Urban          69  133\n",
            "Observed Value:\n",
            "[[ 69 110]\n",
            " [ 54 179]\n",
            " [ 69 133]]\n",
            "Expected Contingency Table:\n",
            "[[ 55.97394137 123.02605863]\n",
            " [ 72.85993485 160.14006515]\n",
            " [ 63.16612378 138.83387622]]\n",
            "The degree of freedom is: 2\n",
            "The chi-square test statistic is: 12.297623\n",
            "Critical value is: 5.991465\n",
            "The p-value is: 0.002136\n",
            "The significant level is: 0.05\n",
            "p < alpha\n",
            "We reject the null hypothesis\n",
            "There is a relationship between Property_Area and Loan_Status\n"
          ]
        }
      ],
      "source": [
        "test_hypothesis('Property_Area', 'Loan_Status')"
      ]
    },
    {
      "cell_type": "code",
      "execution_count": 33,
      "metadata": {
        "id": "eYOpGCuLAZsa"
      },
      "outputs": [
        {
          "name": "stdout",
          "output_type": "stream",
          "text": [
            "Observed Contingency Table:\n",
            "Loan_Status      N    Y\n",
            "Credit_History         \n",
            "0.0             82    7\n",
            "1.0             97  378\n",
            "Observed Value:\n",
            "[[ 82   7]\n",
            " [ 97 378]]\n",
            "Expected Contingency Table:\n",
            "[[ 28.2464539  60.7535461]\n",
            " [150.7535461 324.2464539]]\n",
            "The degree of freedom is: 1\n",
            "The chi-square test statistic is: 174.637297\n",
            "Critical value is: 3.841459\n",
            "The p-value is: 0.000000\n",
            "The significant level is: 0.05\n",
            "p < alpha\n",
            "We reject the null hypothesis\n",
            "There is a relationship between Credit_History and Loan_Status\n"
          ]
        }
      ],
      "source": [
        "test_hypothesis('Credit_History', 'Loan_Status')"
      ]
    },
    {
      "cell_type": "code",
      "execution_count": 34,
      "metadata": {
        "id": "tXs3dbsbAeWA"
      },
      "outputs": [
        {
          "name": "stdout",
          "output_type": "stream",
          "text": [
            "Observed Contingency Table:\n",
            "Loan_Status     N    Y\n",
            "Education             \n",
            "Graduate      140  340\n",
            "Not Graduate   52   82\n",
            "Observed Value:\n",
            "[[140 340]\n",
            " [ 52  82]]\n",
            "Expected Contingency Table:\n",
            "[[150.09771987 329.90228013]\n",
            " [ 41.90228013  92.09771987]]\n",
            "The degree of freedom is: 1\n",
            "The chi-square test statistic is: 4.091490\n",
            "Critical value is: 3.841459\n",
            "The p-value is: 0.043100\n",
            "The significant level is: 0.05\n",
            "p < alpha\n",
            "We reject the null hypothesis\n",
            "There is a relationship between Education and Loan_Status\n"
          ]
        }
      ],
      "source": [
        "test_hypothesis('Education', 'Loan_Status')"
      ]
    },
    {
      "cell_type": "code",
      "execution_count": 35,
      "metadata": {
        "id": "cXGvM1XBAq7h"
      },
      "outputs": [
        {
          "name": "stdout",
          "output_type": "stream",
          "text": [
            "Observed Contingency Table:\n",
            "Loan_Status    N    Y\n",
            "Dependents           \n",
            "0            107  238\n",
            "1             36   66\n",
            "2             25   76\n",
            "3+            18   33\n",
            "Observed Value:\n",
            "[[107 238]\n",
            " [ 36  66]\n",
            " [ 25  76]\n",
            " [ 18  33]]\n",
            "Expected Contingency Table:\n",
            "[[107.12854758 237.87145242]\n",
            " [ 31.67278798  70.32721202]\n",
            " [ 31.36227045  69.63772955]\n",
            " [ 15.83639399  35.16360601]]\n",
            "The degree of freedom is: 3\n",
            "The chi-square test statistic is: 3.158340\n",
            "Critical value is: 7.814728\n",
            "The p-value is: 0.367851\n",
            "The significant level is: 0.05\n",
            "p > alpha\n",
            "We cannot reject the null hypothesis\n",
            "There is no relationship between Dependents and Loan_Status\n"
          ]
        }
      ],
      "source": [
        "test_hypothesis('Dependents', 'Loan_Status')"
      ]
    },
    {
      "cell_type": "code",
      "execution_count": 36,
      "metadata": {
        "id": "ToF4oy-PAnHE"
      },
      "outputs": [
        {
          "name": "stdout",
          "output_type": "stream",
          "text": [
            "Observed Contingency Table:\n",
            "Loan_Status      N    Y\n",
            "Self_Employed          \n",
            "No             157  343\n",
            "Yes             26   56\n",
            "Observed Value:\n",
            "[[157 343]\n",
            " [ 26  56]]\n",
            "Expected Contingency Table:\n",
            "[[157.21649485 342.78350515]\n",
            " [ 25.78350515  56.21649485]]\n",
            "The degree of freedom is: 1\n",
            "The chi-square test statistic is: 0.000000\n",
            "Critical value is: 3.841459\n",
            "The p-value is: 1.000000\n",
            "The significant level is: 0.05\n",
            "p > alpha\n",
            "We cannot reject the null hypothesis\n",
            "There is no relationship between Self_Employed and Loan_Status\n"
          ]
        }
      ],
      "source": [
        "test_hypothesis('Self_Employed', 'Loan_Status')"
      ]
    },
    {
      "cell_type": "code",
      "execution_count": 37,
      "metadata": {
        "id": "fcM1RJ4bAu_R"
      },
      "outputs": [
        {
          "name": "stdout",
          "output_type": "stream",
          "text": [
            "Observed Contingency Table:\n",
            "Loan_Status    N    Y\n",
            "Married              \n",
            "No            79  134\n",
            "Yes          113  285\n",
            "Observed Value:\n",
            "[[ 79 134]\n",
            " [113 285]]\n",
            "Expected Contingency Table:\n",
            "[[ 66.93289689 146.06710311]\n",
            " [125.06710311 272.93289689]]\n",
            "The degree of freedom is: 1\n",
            "The chi-square test statistic is: 4.475019\n",
            "Critical value is: 3.841459\n",
            "The p-value is: 0.034394\n",
            "The significant level is: 0.05\n",
            "p < alpha\n",
            "We reject the null hypothesis\n",
            "There is a relationship between Married and Loan_Status\n"
          ]
        }
      ],
      "source": [
        "test_hypothesis('Married', 'Loan_Status')"
      ]
    },
    {
      "cell_type": "markdown",
      "metadata": {
        "id": "LeEYrX-gC9PU"
      },
      "source": [
        "## III. Data processing"
      ]
    },
    {
      "cell_type": "markdown",
      "metadata": {
        "id": "BqMgZZ8kC9PU"
      },
      "source": [
        "### Missing value"
      ]
    },
    {
      "cell_type": "code",
      "execution_count": 38,
      "metadata": {
        "colab": {
          "base_uri": "https://localhost:8080/"
        },
        "id": "Jlb42vlsC9PU",
        "outputId": "fa25a534-d1d5-476d-f9a2-304fb74394a8"
      },
      "outputs": [
        {
          "data": {
            "text/plain": [
              "Gender               13\n",
              "Married               3\n",
              "Dependents           15\n",
              "Education             0\n",
              "Self_Employed        32\n",
              "ApplicantIncome       0\n",
              "CoapplicantIncome     0\n",
              "LoanAmount           22\n",
              "Loan_Amount_Term     14\n",
              "Credit_History       50\n",
              "Property_Area         0\n",
              "Loan_Status           0\n",
              "dtype: int64"
            ]
          },
          "execution_count": 38,
          "metadata": {},
          "output_type": "execute_result"
        }
      ],
      "source": [
        "data.isna().sum()"
      ]
    },
    {
      "cell_type": "code",
      "execution_count": 39,
      "metadata": {
        "colab": {
          "base_uri": "https://localhost:8080/"
        },
        "id": "xuE0NN9EObSY",
        "outputId": "4fd7c219-58b3-4d43-8233-fd740f5f9837"
      },
      "outputs": [
        {
          "data": {
            "text/plain": [
              "Gender               2.163062\n",
              "Married              0.490998\n",
              "Dependents           2.504174\n",
              "Education            0.000000\n",
              "Self_Employed        5.498282\n",
              "ApplicantIncome      0.000000\n",
              "CoapplicantIncome    0.000000\n",
              "LoanAmount           3.716216\n",
              "Loan_Amount_Term     2.333333\n",
              "Credit_History       8.865248\n",
              "Property_Area        0.000000\n",
              "Loan_Status          0.000000\n",
              "dtype: float64"
            ]
          },
          "execution_count": 39,
          "metadata": {},
          "output_type": "execute_result"
        }
      ],
      "source": [
        "#Calculate the percentage of missing values\n",
        "(data.isnull().sum()/data.count())*100"
      ]
    },
    {
      "cell_type": "code",
      "execution_count": 40,
      "metadata": {
        "id": "EGrJFilZC9PU"
      },
      "outputs": [],
      "source": [
        "# handle missing values\n",
        "# categorical data, ordinal data, fill with mode\n",
        "data.Gender.fillna(data.Gender.mode()[0], inplace= True)\n",
        "data.Married.fillna(data.Married.mode()[0], inplace= True)\n",
        "data.Dependents.fillna(data.Dependents.mode()[0], inplace= True)\n",
        "data.Self_Employed.fillna(data.Self_Employed.mode()[0], inplace= True)\n",
        "data.Loan_Amount_Term.fillna(data.Loan_Amount_Term.mode()[0], inplace= True)\n",
        "data.Credit_History.fillna(data.Credit_History.mode()[0], inplace= True)\n",
        "# numerical data, continuous data, fill with median\n",
        "data.LoanAmount.fillna(data.LoanAmount.median(), inplace= True)\n",
        "# median is better than mean in this data as the data is skewed towards one side that was visualized earlier"
      ]
    },
    {
      "cell_type": "markdown",
      "metadata": {
        "id": "j7bukViLC9PU"
      },
      "source": [
        "### Feature engineering"
      ]
    },
    {
      "cell_type": "code",
      "execution_count": 41,
      "metadata": {
        "id": "ZhJViwe5C9PU"
      },
      "outputs": [],
      "source": [
        "# Create a new column for TotalIncome\n",
        "# Total Income: combine the applicant income and co-applicant income. If the total income is high, chances of loan approval might also be high.\n",
        "data['TotalIncome']=data['ApplicantIncome']+data['CoapplicantIncome']"
      ]
    },
    {
      "cell_type": "code",
      "execution_count": 42,
      "metadata": {
        "id": "isirFZMyC9PU"
      },
      "outputs": [],
      "source": [
        "# EMI, Equated monthly installments to be paid back\n",
        "# Monthly Installment: estimate the monthly payment that the borrower has to make towards the loan.\n",
        "# That people who have high EMI's might find difficult to pay back the loan. We can calculate the EMI by taking ratio of the loan amount with respect to the loan amount term.\n",
        "data['EMI']=data['LoanAmount']/data['Loan_Amount_Term']"
      ]
    },
    {
      "cell_type": "code",
      "execution_count": 43,
      "metadata": {
        "colab": {
          "base_uri": "https://localhost:8080/",
          "height": 300
        },
        "id": "IFPrUnwbC9PU",
        "outputId": "f9c0ecc9-a0cc-4c78-f7a9-2572cde2cc1b"
      },
      "outputs": [
        {
          "data": {
            "text/html": [
              "<div>\n",
              "<style scoped>\n",
              "    .dataframe tbody tr th:only-of-type {\n",
              "        vertical-align: middle;\n",
              "    }\n",
              "\n",
              "    .dataframe tbody tr th {\n",
              "        vertical-align: top;\n",
              "    }\n",
              "\n",
              "    .dataframe thead th {\n",
              "        text-align: right;\n",
              "    }\n",
              "</style>\n",
              "<table border=\"1\" class=\"dataframe\">\n",
              "  <thead>\n",
              "    <tr style=\"text-align: right;\">\n",
              "      <th></th>\n",
              "      <th>TotalIncome</th>\n",
              "      <th>EMI</th>\n",
              "    </tr>\n",
              "  </thead>\n",
              "  <tbody>\n",
              "    <tr>\n",
              "      <th>count</th>\n",
              "      <td>614.000000</td>\n",
              "      <td>614.000000</td>\n",
              "    </tr>\n",
              "    <tr>\n",
              "      <th>mean</th>\n",
              "      <td>7024.705081</td>\n",
              "      <td>0.473687</td>\n",
              "    </tr>\n",
              "    <tr>\n",
              "      <th>std</th>\n",
              "      <td>6458.663872</td>\n",
              "      <td>0.511134</td>\n",
              "    </tr>\n",
              "    <tr>\n",
              "      <th>min</th>\n",
              "      <td>1442.000000</td>\n",
              "      <td>0.025000</td>\n",
              "    </tr>\n",
              "    <tr>\n",
              "      <th>25%</th>\n",
              "      <td>4166.000000</td>\n",
              "      <td>0.288889</td>\n",
              "    </tr>\n",
              "    <tr>\n",
              "      <th>50%</th>\n",
              "      <td>5416.500000</td>\n",
              "      <td>0.361111</td>\n",
              "    </tr>\n",
              "    <tr>\n",
              "      <th>75%</th>\n",
              "      <td>7521.750000</td>\n",
              "      <td>0.505556</td>\n",
              "    </tr>\n",
              "    <tr>\n",
              "      <th>max</th>\n",
              "      <td>81000.000000</td>\n",
              "      <td>9.250000</td>\n",
              "    </tr>\n",
              "  </tbody>\n",
              "</table>\n",
              "</div>"
            ],
            "text/plain": [
              "        TotalIncome         EMI\n",
              "count    614.000000  614.000000\n",
              "mean    7024.705081    0.473687\n",
              "std     6458.663872    0.511134\n",
              "min     1442.000000    0.025000\n",
              "25%     4166.000000    0.288889\n",
              "50%     5416.500000    0.361111\n",
              "75%     7521.750000    0.505556\n",
              "max    81000.000000    9.250000"
            ]
          },
          "execution_count": 43,
          "metadata": {},
          "output_type": "execute_result"
        }
      ],
      "source": [
        "data[['TotalIncome','EMI']].describe()"
      ]
    },
    {
      "cell_type": "code",
      "execution_count": 44,
      "metadata": {
        "id": "Y7m95niBC9PU"
      },
      "outputs": [],
      "source": [
        "# Drop the columns which are not required, they are have high correlation with the new feature TotalIncome, EMI\n",
        "data = data.drop(['ApplicantIncome', 'CoapplicantIncome', 'LoanAmount', 'Loan_Amount_Term'], axis=1)"
      ]
    },
    {
      "cell_type": "code",
      "execution_count": 45,
      "metadata": {
        "colab": {
          "base_uri": "https://localhost:8080/",
          "height": 206
        },
        "id": "hZLJMk6Sa83b",
        "outputId": "cb813ae2-3ae9-4fce-d663-faeace42ca96"
      },
      "outputs": [
        {
          "data": {
            "text/html": [
              "<div>\n",
              "<style scoped>\n",
              "    .dataframe tbody tr th:only-of-type {\n",
              "        vertical-align: middle;\n",
              "    }\n",
              "\n",
              "    .dataframe tbody tr th {\n",
              "        vertical-align: top;\n",
              "    }\n",
              "\n",
              "    .dataframe thead th {\n",
              "        text-align: right;\n",
              "    }\n",
              "</style>\n",
              "<table border=\"1\" class=\"dataframe\">\n",
              "  <thead>\n",
              "    <tr style=\"text-align: right;\">\n",
              "      <th></th>\n",
              "      <th>Gender</th>\n",
              "      <th>Married</th>\n",
              "      <th>Dependents</th>\n",
              "      <th>Education</th>\n",
              "      <th>Self_Employed</th>\n",
              "      <th>Credit_History</th>\n",
              "      <th>Property_Area</th>\n",
              "      <th>Loan_Status</th>\n",
              "      <th>TotalIncome</th>\n",
              "      <th>EMI</th>\n",
              "    </tr>\n",
              "  </thead>\n",
              "  <tbody>\n",
              "    <tr>\n",
              "      <th>0</th>\n",
              "      <td>Male</td>\n",
              "      <td>No</td>\n",
              "      <td>0</td>\n",
              "      <td>Graduate</td>\n",
              "      <td>No</td>\n",
              "      <td>1.0</td>\n",
              "      <td>Urban</td>\n",
              "      <td>Y</td>\n",
              "      <td>5849.0</td>\n",
              "      <td>0.355556</td>\n",
              "    </tr>\n",
              "    <tr>\n",
              "      <th>1</th>\n",
              "      <td>Male</td>\n",
              "      <td>Yes</td>\n",
              "      <td>1</td>\n",
              "      <td>Graduate</td>\n",
              "      <td>No</td>\n",
              "      <td>1.0</td>\n",
              "      <td>Rural</td>\n",
              "      <td>N</td>\n",
              "      <td>6091.0</td>\n",
              "      <td>0.355556</td>\n",
              "    </tr>\n",
              "    <tr>\n",
              "      <th>2</th>\n",
              "      <td>Male</td>\n",
              "      <td>Yes</td>\n",
              "      <td>0</td>\n",
              "      <td>Graduate</td>\n",
              "      <td>Yes</td>\n",
              "      <td>1.0</td>\n",
              "      <td>Urban</td>\n",
              "      <td>Y</td>\n",
              "      <td>3000.0</td>\n",
              "      <td>0.183333</td>\n",
              "    </tr>\n",
              "    <tr>\n",
              "      <th>3</th>\n",
              "      <td>Male</td>\n",
              "      <td>Yes</td>\n",
              "      <td>0</td>\n",
              "      <td>Not Graduate</td>\n",
              "      <td>No</td>\n",
              "      <td>1.0</td>\n",
              "      <td>Urban</td>\n",
              "      <td>Y</td>\n",
              "      <td>4941.0</td>\n",
              "      <td>0.333333</td>\n",
              "    </tr>\n",
              "    <tr>\n",
              "      <th>4</th>\n",
              "      <td>Male</td>\n",
              "      <td>No</td>\n",
              "      <td>0</td>\n",
              "      <td>Graduate</td>\n",
              "      <td>No</td>\n",
              "      <td>1.0</td>\n",
              "      <td>Urban</td>\n",
              "      <td>Y</td>\n",
              "      <td>6000.0</td>\n",
              "      <td>0.391667</td>\n",
              "    </tr>\n",
              "  </tbody>\n",
              "</table>\n",
              "</div>"
            ],
            "text/plain": [
              "  Gender Married Dependents     Education Self_Employed  Credit_History  \\\n",
              "0   Male      No          0      Graduate            No             1.0   \n",
              "1   Male     Yes          1      Graduate            No             1.0   \n",
              "2   Male     Yes          0      Graduate           Yes             1.0   \n",
              "3   Male     Yes          0  Not Graduate            No             1.0   \n",
              "4   Male      No          0      Graduate            No             1.0   \n",
              "\n",
              "  Property_Area Loan_Status  TotalIncome       EMI  \n",
              "0         Urban           Y       5849.0  0.355556  \n",
              "1         Rural           N       6091.0  0.355556  \n",
              "2         Urban           Y       3000.0  0.183333  \n",
              "3         Urban           Y       4941.0  0.333333  \n",
              "4         Urban           Y       6000.0  0.391667  "
            ]
          },
          "execution_count": 45,
          "metadata": {},
          "output_type": "execute_result"
        }
      ],
      "source": [
        "data.head()"
      ]
    },
    {
      "cell_type": "code",
      "execution_count": 46,
      "metadata": {
        "id": "tJsMLwiKC9PV"
      },
      "outputs": [],
      "source": [
        "# Feature Scaling\n",
        "from sklearn.preprocessing import StandardScaler\n",
        "sc = StandardScaler()\n",
        "data_scaled = sc.fit_transform(data[['TotalIncome', 'EMI']])"
      ]
    },
    {
      "cell_type": "code",
      "execution_count": 47,
      "metadata": {
        "colab": {
          "base_uri": "https://localhost:8080/",
          "height": 206
        },
        "id": "lbwHz834zXA2",
        "outputId": "0d9aee51-eeab-4d9d-88e5-d7de4016d175"
      },
      "outputs": [
        {
          "data": {
            "text/html": [
              "<div>\n",
              "<style scoped>\n",
              "    .dataframe tbody tr th:only-of-type {\n",
              "        vertical-align: middle;\n",
              "    }\n",
              "\n",
              "    .dataframe tbody tr th {\n",
              "        vertical-align: top;\n",
              "    }\n",
              "\n",
              "    .dataframe thead th {\n",
              "        text-align: right;\n",
              "    }\n",
              "</style>\n",
              "<table border=\"1\" class=\"dataframe\">\n",
              "  <thead>\n",
              "    <tr style=\"text-align: right;\">\n",
              "      <th></th>\n",
              "      <th>Gender</th>\n",
              "      <th>Married</th>\n",
              "      <th>Dependents</th>\n",
              "      <th>Education</th>\n",
              "      <th>Self_Employed</th>\n",
              "      <th>Credit_History</th>\n",
              "      <th>Property_Area</th>\n",
              "    </tr>\n",
              "  </thead>\n",
              "  <tbody>\n",
              "    <tr>\n",
              "      <th>0</th>\n",
              "      <td>Male</td>\n",
              "      <td>No</td>\n",
              "      <td>0</td>\n",
              "      <td>Graduate</td>\n",
              "      <td>No</td>\n",
              "      <td>1.0</td>\n",
              "      <td>Urban</td>\n",
              "    </tr>\n",
              "    <tr>\n",
              "      <th>1</th>\n",
              "      <td>Male</td>\n",
              "      <td>Yes</td>\n",
              "      <td>1</td>\n",
              "      <td>Graduate</td>\n",
              "      <td>No</td>\n",
              "      <td>1.0</td>\n",
              "      <td>Rural</td>\n",
              "    </tr>\n",
              "    <tr>\n",
              "      <th>2</th>\n",
              "      <td>Male</td>\n",
              "      <td>Yes</td>\n",
              "      <td>0</td>\n",
              "      <td>Graduate</td>\n",
              "      <td>Yes</td>\n",
              "      <td>1.0</td>\n",
              "      <td>Urban</td>\n",
              "    </tr>\n",
              "    <tr>\n",
              "      <th>3</th>\n",
              "      <td>Male</td>\n",
              "      <td>Yes</td>\n",
              "      <td>0</td>\n",
              "      <td>Not Graduate</td>\n",
              "      <td>No</td>\n",
              "      <td>1.0</td>\n",
              "      <td>Urban</td>\n",
              "    </tr>\n",
              "    <tr>\n",
              "      <th>4</th>\n",
              "      <td>Male</td>\n",
              "      <td>No</td>\n",
              "      <td>0</td>\n",
              "      <td>Graduate</td>\n",
              "      <td>No</td>\n",
              "      <td>1.0</td>\n",
              "      <td>Urban</td>\n",
              "    </tr>\n",
              "  </tbody>\n",
              "</table>\n",
              "</div>"
            ],
            "text/plain": [
              "  Gender Married Dependents     Education Self_Employed  Credit_History  \\\n",
              "0   Male      No          0      Graduate            No             1.0   \n",
              "1   Male     Yes          1      Graduate            No             1.0   \n",
              "2   Male     Yes          0      Graduate           Yes             1.0   \n",
              "3   Male     Yes          0  Not Graduate            No             1.0   \n",
              "4   Male      No          0      Graduate            No             1.0   \n",
              "\n",
              "  Property_Area  \n",
              "0         Urban  \n",
              "1         Rural  \n",
              "2         Urban  \n",
              "3         Urban  \n",
              "4         Urban  "
            ]
          },
          "execution_count": 47,
          "metadata": {},
          "output_type": "execute_result"
        }
      ],
      "source": [
        "# One-hot-encode the categorical columns.\n",
        "from sklearn.preprocessing import OneHotEncoder\n",
        "ohe = OneHotEncoder()\n",
        "\n",
        "df = data.drop(['TotalIncome', 'EMI','Loan_Status'], axis=1)\n",
        "df.head()"
      ]
    },
    {
      "cell_type": "code",
      "execution_count": 48,
      "metadata": {
        "id": "8JCgah0EbLxt"
      },
      "outputs": [],
      "source": [
        "\n",
        "\n",
        "categorical_cols = ['Gender', 'Married', 'Dependents','Education', 'Self_Employed', 'Credit_History', 'Property_Area'] \n",
        "\n",
        "from sklearn.compose import make_column_transformer\n",
        "columns_transform = make_column_transformer((ohe,['Gender', 'Married', 'Dependents','Education', 'Self_Employed', 'Credit_History', 'Property_Area']),\n",
        "                                           remainder='passthrough')\n",
        "array_hot_encoded=columns_transform.fit_transform(df)"
      ]
    },
    {
      "cell_type": "code",
      "execution_count": 49,
      "metadata": {
        "id": "aEiYkgMH661k"
      },
      "outputs": [],
      "source": [
        "#Convert it to df\n",
        "new_columns = ['Gender_Male', 'Gender_Female', 'Married_No','Married_Yes','Dependents_0','Dependents_1','Dependents_2','Dependents_3+',\n",
        "                'Education_Grad', 'Education_Graduate_NotGrad','Self_Employed_No','Self_Employed_Yes', 'Credit_History_0','Credit_History_1',\n",
        "                'Property_Area_Rural','Property_Area_Semiurban','Property_Area_Urban']\n",
        "data_hot_encoded = pd.DataFrame(array_hot_encoded, columns = new_columns)"
      ]
    },
    {
      "cell_type": "code",
      "execution_count": 50,
      "metadata": {
        "colab": {
          "base_uri": "https://localhost:8080/",
          "height": 270
        },
        "id": "LU4nqwZS3IRY",
        "outputId": "fb3f3c3f-8ef5-4a1d-c20c-f5cea7a80d9a"
      },
      "outputs": [
        {
          "data": {
            "text/html": [
              "<div>\n",
              "<style scoped>\n",
              "    .dataframe tbody tr th:only-of-type {\n",
              "        vertical-align: middle;\n",
              "    }\n",
              "\n",
              "    .dataframe tbody tr th {\n",
              "        vertical-align: top;\n",
              "    }\n",
              "\n",
              "    .dataframe thead th {\n",
              "        text-align: right;\n",
              "    }\n",
              "</style>\n",
              "<table border=\"1\" class=\"dataframe\">\n",
              "  <thead>\n",
              "    <tr style=\"text-align: right;\">\n",
              "      <th></th>\n",
              "      <th>Gender_Male</th>\n",
              "      <th>Gender_Female</th>\n",
              "      <th>Married_No</th>\n",
              "      <th>Married_Yes</th>\n",
              "      <th>Dependents_0</th>\n",
              "      <th>Dependents_1</th>\n",
              "      <th>Dependents_2</th>\n",
              "      <th>Dependents_3+</th>\n",
              "      <th>Education_Grad</th>\n",
              "      <th>Education_Graduate_NotGrad</th>\n",
              "      <th>Self_Employed_No</th>\n",
              "      <th>Self_Employed_Yes</th>\n",
              "      <th>Credit_History_0</th>\n",
              "      <th>Credit_History_1</th>\n",
              "      <th>Property_Area_Rural</th>\n",
              "      <th>Property_Area_Semiurban</th>\n",
              "      <th>Property_Area_Urban</th>\n",
              "    </tr>\n",
              "  </thead>\n",
              "  <tbody>\n",
              "    <tr>\n",
              "      <th>0</th>\n",
              "      <td>0.0</td>\n",
              "      <td>1.0</td>\n",
              "      <td>1.0</td>\n",
              "      <td>0.0</td>\n",
              "      <td>1.0</td>\n",
              "      <td>0.0</td>\n",
              "      <td>0.0</td>\n",
              "      <td>0.0</td>\n",
              "      <td>1.0</td>\n",
              "      <td>0.0</td>\n",
              "      <td>1.0</td>\n",
              "      <td>0.0</td>\n",
              "      <td>0.0</td>\n",
              "      <td>1.0</td>\n",
              "      <td>0.0</td>\n",
              "      <td>0.0</td>\n",
              "      <td>1.0</td>\n",
              "    </tr>\n",
              "    <tr>\n",
              "      <th>1</th>\n",
              "      <td>0.0</td>\n",
              "      <td>1.0</td>\n",
              "      <td>0.0</td>\n",
              "      <td>1.0</td>\n",
              "      <td>0.0</td>\n",
              "      <td>1.0</td>\n",
              "      <td>0.0</td>\n",
              "      <td>0.0</td>\n",
              "      <td>1.0</td>\n",
              "      <td>0.0</td>\n",
              "      <td>1.0</td>\n",
              "      <td>0.0</td>\n",
              "      <td>0.0</td>\n",
              "      <td>1.0</td>\n",
              "      <td>1.0</td>\n",
              "      <td>0.0</td>\n",
              "      <td>0.0</td>\n",
              "    </tr>\n",
              "    <tr>\n",
              "      <th>2</th>\n",
              "      <td>0.0</td>\n",
              "      <td>1.0</td>\n",
              "      <td>0.0</td>\n",
              "      <td>1.0</td>\n",
              "      <td>1.0</td>\n",
              "      <td>0.0</td>\n",
              "      <td>0.0</td>\n",
              "      <td>0.0</td>\n",
              "      <td>1.0</td>\n",
              "      <td>0.0</td>\n",
              "      <td>0.0</td>\n",
              "      <td>1.0</td>\n",
              "      <td>0.0</td>\n",
              "      <td>1.0</td>\n",
              "      <td>0.0</td>\n",
              "      <td>0.0</td>\n",
              "      <td>1.0</td>\n",
              "    </tr>\n",
              "    <tr>\n",
              "      <th>3</th>\n",
              "      <td>0.0</td>\n",
              "      <td>1.0</td>\n",
              "      <td>0.0</td>\n",
              "      <td>1.0</td>\n",
              "      <td>1.0</td>\n",
              "      <td>0.0</td>\n",
              "      <td>0.0</td>\n",
              "      <td>0.0</td>\n",
              "      <td>0.0</td>\n",
              "      <td>1.0</td>\n",
              "      <td>1.0</td>\n",
              "      <td>0.0</td>\n",
              "      <td>0.0</td>\n",
              "      <td>1.0</td>\n",
              "      <td>0.0</td>\n",
              "      <td>0.0</td>\n",
              "      <td>1.0</td>\n",
              "    </tr>\n",
              "    <tr>\n",
              "      <th>4</th>\n",
              "      <td>0.0</td>\n",
              "      <td>1.0</td>\n",
              "      <td>1.0</td>\n",
              "      <td>0.0</td>\n",
              "      <td>1.0</td>\n",
              "      <td>0.0</td>\n",
              "      <td>0.0</td>\n",
              "      <td>0.0</td>\n",
              "      <td>1.0</td>\n",
              "      <td>0.0</td>\n",
              "      <td>1.0</td>\n",
              "      <td>0.0</td>\n",
              "      <td>0.0</td>\n",
              "      <td>1.0</td>\n",
              "      <td>0.0</td>\n",
              "      <td>0.0</td>\n",
              "      <td>1.0</td>\n",
              "    </tr>\n",
              "  </tbody>\n",
              "</table>\n",
              "</div>"
            ],
            "text/plain": [
              "   Gender_Male  Gender_Female  Married_No  Married_Yes  Dependents_0  \\\n",
              "0          0.0            1.0         1.0          0.0           1.0   \n",
              "1          0.0            1.0         0.0          1.0           0.0   \n",
              "2          0.0            1.0         0.0          1.0           1.0   \n",
              "3          0.0            1.0         0.0          1.0           1.0   \n",
              "4          0.0            1.0         1.0          0.0           1.0   \n",
              "\n",
              "   Dependents_1  Dependents_2  Dependents_3+  Education_Grad  \\\n",
              "0           0.0           0.0            0.0             1.0   \n",
              "1           1.0           0.0            0.0             1.0   \n",
              "2           0.0           0.0            0.0             1.0   \n",
              "3           0.0           0.0            0.0             0.0   \n",
              "4           0.0           0.0            0.0             1.0   \n",
              "\n",
              "   Education_Graduate_NotGrad  Self_Employed_No  Self_Employed_Yes  \\\n",
              "0                         0.0               1.0                0.0   \n",
              "1                         0.0               1.0                0.0   \n",
              "2                         0.0               0.0                1.0   \n",
              "3                         1.0               1.0                0.0   \n",
              "4                         0.0               1.0                0.0   \n",
              "\n",
              "   Credit_History_0  Credit_History_1  Property_Area_Rural  \\\n",
              "0               0.0               1.0                  0.0   \n",
              "1               0.0               1.0                  1.0   \n",
              "2               0.0               1.0                  0.0   \n",
              "3               0.0               1.0                  0.0   \n",
              "4               0.0               1.0                  0.0   \n",
              "\n",
              "   Property_Area_Semiurban  Property_Area_Urban  \n",
              "0                      0.0                  1.0  \n",
              "1                      0.0                  0.0  \n",
              "2                      0.0                  1.0  \n",
              "3                      0.0                  1.0  \n",
              "4                      0.0                  1.0  "
            ]
          },
          "execution_count": 50,
          "metadata": {},
          "output_type": "execute_result"
        }
      ],
      "source": [
        "data_hot_encoded.head()"
      ]
    },
    {
      "cell_type": "code",
      "execution_count": 51,
      "metadata": {
        "id": "mV_hv6JUugUO"
      },
      "outputs": [],
      "source": [
        "#Extract only the columns that didnt need to be encoded\n",
        "data_other_cols = data.drop(columns=categorical_cols)"
      ]
    },
    {
      "cell_type": "code",
      "execution_count": 52,
      "metadata": {
        "id": "POs2sjDddY-g"
      },
      "outputs": [],
      "source": [
        "#Concatenate the two dataframes : \n",
        "data = pd.concat([data_hot_encoded, data_other_cols], axis=1)"
      ]
    },
    {
      "cell_type": "code",
      "execution_count": 53,
      "metadata": {
        "colab": {
          "base_uri": "https://localhost:8080/",
          "height": 270
        },
        "id": "9qAi3X2FC9PV",
        "outputId": "81a51c6c-8701-431c-a10e-79aa31f56f5b"
      },
      "outputs": [
        {
          "data": {
            "text/html": [
              "<div>\n",
              "<style scoped>\n",
              "    .dataframe tbody tr th:only-of-type {\n",
              "        vertical-align: middle;\n",
              "    }\n",
              "\n",
              "    .dataframe tbody tr th {\n",
              "        vertical-align: top;\n",
              "    }\n",
              "\n",
              "    .dataframe thead th {\n",
              "        text-align: right;\n",
              "    }\n",
              "</style>\n",
              "<table border=\"1\" class=\"dataframe\">\n",
              "  <thead>\n",
              "    <tr style=\"text-align: right;\">\n",
              "      <th></th>\n",
              "      <th>Gender_Male</th>\n",
              "      <th>Gender_Female</th>\n",
              "      <th>Married_No</th>\n",
              "      <th>Married_Yes</th>\n",
              "      <th>Dependents_0</th>\n",
              "      <th>Dependents_1</th>\n",
              "      <th>Dependents_2</th>\n",
              "      <th>Dependents_3+</th>\n",
              "      <th>Education_Grad</th>\n",
              "      <th>Education_Graduate_NotGrad</th>\n",
              "      <th>Self_Employed_No</th>\n",
              "      <th>Self_Employed_Yes</th>\n",
              "      <th>Credit_History_0</th>\n",
              "      <th>Credit_History_1</th>\n",
              "      <th>Property_Area_Rural</th>\n",
              "      <th>Property_Area_Semiurban</th>\n",
              "      <th>Property_Area_Urban</th>\n",
              "      <th>Loan_Status</th>\n",
              "      <th>TotalIncome</th>\n",
              "      <th>EMI</th>\n",
              "    </tr>\n",
              "  </thead>\n",
              "  <tbody>\n",
              "    <tr>\n",
              "      <th>0</th>\n",
              "      <td>0.0</td>\n",
              "      <td>1.0</td>\n",
              "      <td>1.0</td>\n",
              "      <td>0.0</td>\n",
              "      <td>1.0</td>\n",
              "      <td>0.0</td>\n",
              "      <td>0.0</td>\n",
              "      <td>0.0</td>\n",
              "      <td>1.0</td>\n",
              "      <td>0.0</td>\n",
              "      <td>1.0</td>\n",
              "      <td>0.0</td>\n",
              "      <td>0.0</td>\n",
              "      <td>1.0</td>\n",
              "      <td>0.0</td>\n",
              "      <td>0.0</td>\n",
              "      <td>1.0</td>\n",
              "      <td>Y</td>\n",
              "      <td>5849.0</td>\n",
              "      <td>0.355556</td>\n",
              "    </tr>\n",
              "    <tr>\n",
              "      <th>1</th>\n",
              "      <td>0.0</td>\n",
              "      <td>1.0</td>\n",
              "      <td>0.0</td>\n",
              "      <td>1.0</td>\n",
              "      <td>0.0</td>\n",
              "      <td>1.0</td>\n",
              "      <td>0.0</td>\n",
              "      <td>0.0</td>\n",
              "      <td>1.0</td>\n",
              "      <td>0.0</td>\n",
              "      <td>1.0</td>\n",
              "      <td>0.0</td>\n",
              "      <td>0.0</td>\n",
              "      <td>1.0</td>\n",
              "      <td>1.0</td>\n",
              "      <td>0.0</td>\n",
              "      <td>0.0</td>\n",
              "      <td>N</td>\n",
              "      <td>6091.0</td>\n",
              "      <td>0.355556</td>\n",
              "    </tr>\n",
              "    <tr>\n",
              "      <th>2</th>\n",
              "      <td>0.0</td>\n",
              "      <td>1.0</td>\n",
              "      <td>0.0</td>\n",
              "      <td>1.0</td>\n",
              "      <td>1.0</td>\n",
              "      <td>0.0</td>\n",
              "      <td>0.0</td>\n",
              "      <td>0.0</td>\n",
              "      <td>1.0</td>\n",
              "      <td>0.0</td>\n",
              "      <td>0.0</td>\n",
              "      <td>1.0</td>\n",
              "      <td>0.0</td>\n",
              "      <td>1.0</td>\n",
              "      <td>0.0</td>\n",
              "      <td>0.0</td>\n",
              "      <td>1.0</td>\n",
              "      <td>Y</td>\n",
              "      <td>3000.0</td>\n",
              "      <td>0.183333</td>\n",
              "    </tr>\n",
              "    <tr>\n",
              "      <th>3</th>\n",
              "      <td>0.0</td>\n",
              "      <td>1.0</td>\n",
              "      <td>0.0</td>\n",
              "      <td>1.0</td>\n",
              "      <td>1.0</td>\n",
              "      <td>0.0</td>\n",
              "      <td>0.0</td>\n",
              "      <td>0.0</td>\n",
              "      <td>0.0</td>\n",
              "      <td>1.0</td>\n",
              "      <td>1.0</td>\n",
              "      <td>0.0</td>\n",
              "      <td>0.0</td>\n",
              "      <td>1.0</td>\n",
              "      <td>0.0</td>\n",
              "      <td>0.0</td>\n",
              "      <td>1.0</td>\n",
              "      <td>Y</td>\n",
              "      <td>4941.0</td>\n",
              "      <td>0.333333</td>\n",
              "    </tr>\n",
              "    <tr>\n",
              "      <th>4</th>\n",
              "      <td>0.0</td>\n",
              "      <td>1.0</td>\n",
              "      <td>1.0</td>\n",
              "      <td>0.0</td>\n",
              "      <td>1.0</td>\n",
              "      <td>0.0</td>\n",
              "      <td>0.0</td>\n",
              "      <td>0.0</td>\n",
              "      <td>1.0</td>\n",
              "      <td>0.0</td>\n",
              "      <td>1.0</td>\n",
              "      <td>0.0</td>\n",
              "      <td>0.0</td>\n",
              "      <td>1.0</td>\n",
              "      <td>0.0</td>\n",
              "      <td>0.0</td>\n",
              "      <td>1.0</td>\n",
              "      <td>Y</td>\n",
              "      <td>6000.0</td>\n",
              "      <td>0.391667</td>\n",
              "    </tr>\n",
              "  </tbody>\n",
              "</table>\n",
              "</div>"
            ],
            "text/plain": [
              "   Gender_Male  Gender_Female  Married_No  Married_Yes  Dependents_0  \\\n",
              "0          0.0            1.0         1.0          0.0           1.0   \n",
              "1          0.0            1.0         0.0          1.0           0.0   \n",
              "2          0.0            1.0         0.0          1.0           1.0   \n",
              "3          0.0            1.0         0.0          1.0           1.0   \n",
              "4          0.0            1.0         1.0          0.0           1.0   \n",
              "\n",
              "   Dependents_1  Dependents_2  Dependents_3+  Education_Grad  \\\n",
              "0           0.0           0.0            0.0             1.0   \n",
              "1           1.0           0.0            0.0             1.0   \n",
              "2           0.0           0.0            0.0             1.0   \n",
              "3           0.0           0.0            0.0             0.0   \n",
              "4           0.0           0.0            0.0             1.0   \n",
              "\n",
              "   Education_Graduate_NotGrad  Self_Employed_No  Self_Employed_Yes  \\\n",
              "0                         0.0               1.0                0.0   \n",
              "1                         0.0               1.0                0.0   \n",
              "2                         0.0               0.0                1.0   \n",
              "3                         1.0               1.0                0.0   \n",
              "4                         0.0               1.0                0.0   \n",
              "\n",
              "   Credit_History_0  Credit_History_1  Property_Area_Rural  \\\n",
              "0               0.0               1.0                  0.0   \n",
              "1               0.0               1.0                  1.0   \n",
              "2               0.0               1.0                  0.0   \n",
              "3               0.0               1.0                  0.0   \n",
              "4               0.0               1.0                  0.0   \n",
              "\n",
              "   Property_Area_Semiurban  Property_Area_Urban Loan_Status  TotalIncome  \\\n",
              "0                      0.0                  1.0           Y       5849.0   \n",
              "1                      0.0                  0.0           N       6091.0   \n",
              "2                      0.0                  1.0           Y       3000.0   \n",
              "3                      0.0                  1.0           Y       4941.0   \n",
              "4                      0.0                  1.0           Y       6000.0   \n",
              "\n",
              "        EMI  \n",
              "0  0.355556  \n",
              "1  0.355556  \n",
              "2  0.183333  \n",
              "3  0.333333  \n",
              "4  0.391667  "
            ]
          },
          "execution_count": 53,
          "metadata": {},
          "output_type": "execute_result"
        }
      ],
      "source": [
        "data.head()"
      ]
    },
    {
      "cell_type": "markdown",
      "metadata": {
        "id": "x-jfVaAqC9PV"
      },
      "source": [
        "## IV. Modeling"
      ]
    },
    {
      "cell_type": "markdown",
      "metadata": {
        "id": "1sh59yPYC9PV"
      },
      "source": [
        "### Logistic Model"
      ]
    },
    {
      "cell_type": "code",
      "execution_count": 54,
      "metadata": {
        "id": "hrRgu5dwC9PV"
      },
      "outputs": [],
      "source": [
        "from sklearn.linear_model import LogisticRegression\n",
        "from sklearn.model_selection import train_test_split"
      ]
    },
    {
      "cell_type": "code",
      "execution_count": 55,
      "metadata": {
        "id": "yv1SmTaNC9PV"
      },
      "outputs": [],
      "source": [
        "logreg = LogisticRegression()\n",
        "X = data.drop(['Loan_Status'],axis=1)\n",
        "y = data['Loan_Status']\n",
        "y.head()\n",
        "X_train, X_test, y_train, y_test = train_test_split(X, y, test_size=0.2, random_state=7, stratify=y)\n",
        "logreg.fit(X_train, y_train)\n",
        "y_pred = logreg.predict(X_test)"
      ]
    },
    {
      "cell_type": "code",
      "execution_count": 56,
      "metadata": {
        "colab": {
          "base_uri": "https://localhost:8080/"
        },
        "id": "oQmf4eVCC9PV",
        "outputId": "95f89fe4-c514-49aa-eec7-a9668c291f99"
      },
      "outputs": [
        {
          "name": "stdout",
          "output_type": "stream",
          "text": [
            "X_train.shape: (491, 19)\n",
            "y_train.shape: (491,)\n",
            "X_test.shape: (123, 19)\n",
            "y_test.shape: (123,)\n"
          ]
        }
      ],
      "source": [
        "print(\"X_train.shape:\", X_train.shape)\n",
        "print(\"y_train.shape:\", y_train.shape)\n",
        "print(\"X_test.shape:\", X_test.shape)\n",
        "print(\"y_test.shape:\", y_test.shape)"
      ]
    },
    {
      "cell_type": "code",
      "execution_count": 57,
      "metadata": {
        "colab": {
          "base_uri": "https://localhost:8080/"
        },
        "id": "2VUVoMnrC9PV",
        "outputId": "4119e996-534c-4dfc-8deb-5becf63542b4"
      },
      "outputs": [
        {
          "name": "stdout",
          "output_type": "stream",
          "text": [
            "['Y' 'Y' 'N' 'Y' 'Y' 'Y' 'Y' 'Y' 'Y' 'Y' 'N' 'Y' 'Y' 'Y' 'Y' 'Y' 'Y' 'Y'\n",
            " 'Y' 'Y' 'N' 'Y' 'Y' 'Y' 'Y' 'Y' 'N' 'Y' 'Y' 'Y' 'Y' 'Y' 'Y' 'Y' 'Y' 'Y'\n",
            " 'Y' 'Y' 'N' 'Y' 'Y' 'Y' 'Y' 'Y' 'Y' 'Y' 'Y' 'Y' 'Y' 'Y' 'N' 'N' 'Y' 'Y'\n",
            " 'Y' 'Y' 'Y' 'Y' 'N' 'Y' 'Y' 'Y' 'N' 'Y' 'N' 'Y' 'N' 'Y' 'N' 'Y' 'Y' 'N'\n",
            " 'Y' 'N' 'Y' 'Y' 'Y' 'Y' 'Y' 'Y' 'Y' 'Y' 'Y' 'Y' 'Y' 'Y' 'Y' 'Y' 'Y' 'Y'\n",
            " 'Y' 'Y' 'Y' 'N' 'Y' 'Y' 'Y' 'Y' 'Y' 'Y' 'N' 'Y' 'Y' 'Y' 'Y' 'Y' 'Y' 'N'\n",
            " 'Y' 'Y' 'Y' 'Y' 'N' 'Y' 'Y' 'N' 'N' 'Y' 'Y' 'Y' 'N' 'Y' 'Y']\n"
          ]
        }
      ],
      "source": [
        "print(y_pred)"
      ]
    },
    {
      "cell_type": "code",
      "execution_count": 58,
      "metadata": {
        "colab": {
          "base_uri": "https://localhost:8080/"
        },
        "id": "VbDq2DBqC9PV",
        "outputId": "8441ed08-6e21-464c-fff8-3d388a55d81b"
      },
      "outputs": [
        {
          "name": "stdout",
          "output_type": "stream",
          "text": [
            "Logistic Regression Accuracy Score: 0.7804878048780488\n",
            "Logistic Regression Confusion Matrix: \n",
            " [[16 22]\n",
            " [ 5 80]]\n"
          ]
        }
      ],
      "source": [
        "from sklearn.metrics import confusion_matrix, accuracy_score\n",
        "print(\"Logistic Regression Accuracy Score:\", accuracy_score(y_test, y_pred))\n",
        "print(\"Logistic Regression Confusion Matrix: \\n\", confusion_matrix(y_test, y_pred))"
      ]
    },
    {
      "cell_type": "code",
      "execution_count": 59,
      "metadata": {
        "colab": {
          "base_uri": "https://localhost:8080/",
          "height": 392
        },
        "id": "hESG1wGWC9PV",
        "outputId": "95927188-544f-4d97-f6bd-b7536e36dc74"
      },
      "outputs": [
        {
          "data": {
            "image/png": "[encoded data removed]",
            "text/plain": [
              "<Figure size 432x432 with 2 Axes>"
            ]
          },
          "metadata": {},
          "output_type": "display_data"
        }
      ],
      "source": [
        "fig, ax = plt.subplots(figsize=(6,6))\n",
        "sns.heatmap(confusion_matrix(y_test, y_pred), annot=True, fmt='d',\n",
        "            xticklabels=['0', '1'], yticklabels=['0', '1'],\n",
        "            cmap='Blues', ax=ax)\n",
        "plt.xlabel('Predicted')\n",
        "plt.ylabel('Actual')\n",
        "plt.show()"
      ]
    },
    {
      "cell_type": "code",
      "execution_count": 60,
      "metadata": {
        "colab": {
          "base_uri": "https://localhost:8080/"
        },
        "id": "kOQCsmbEC9PV",
        "outputId": "06c7ab9a-a29d-4de5-e52c-d6818deea12c"
      },
      "outputs": [
        {
          "name": "stdout",
          "output_type": "stream",
          "text": [
            "              precision    recall  f1-score   support\n",
            "\n",
            "           N       0.76      0.42      0.54        38\n",
            "           Y       0.78      0.94      0.86        85\n",
            "\n",
            "    accuracy                           0.78       123\n",
            "   macro avg       0.77      0.68      0.70       123\n",
            "weighted avg       0.78      0.78      0.76       123\n",
            "\n"
          ]
        }
      ],
      "source": [
        "from sklearn.metrics import classification_report\n",
        "print(classification_report(y_test, y_pred))"
      ]
    },
    {
      "cell_type": "code",
      "execution_count": 61,
      "metadata": {
        "id": "alXAegE2C9PV"
      },
      "outputs": [],
      "source": [
        "from sklearn.preprocessing import LabelEncoder\n",
        "y_test_label = LabelEncoder().fit_transform(y_test)\n",
        "y_pred_label = LabelEncoder().fit_transform(y_pred)"
      ]
    },
    {
      "cell_type": "code",
      "execution_count": 62,
      "metadata": {
        "colab": {
          "base_uri": "https://localhost:8080/"
        },
        "id": "F3ZHqWTpC9PV",
        "outputId": "6c2e8ccd-a4d2-4b3f-b93c-979a6aab3ea3"
      },
      "outputs": [
        {
          "name": "stdout",
          "output_type": "stream",
          "text": [
            "AUC : 0.6811145510835913\n"
          ]
        }
      ],
      "source": [
        "# Check the AUC score\n",
        "from sklearn.metrics import roc_auc_score\n",
        "auc_score = roc_auc_score(y_true=y_test_label, y_score=y_pred_label)\n",
        "print(\"AUC :\", auc_score)"
      ]
    },
    {
      "cell_type": "code",
      "execution_count": 63,
      "metadata": {
        "colab": {
          "base_uri": "https://localhost:8080/",
          "height": 513
        },
        "id": "d9GZXwo_C9PV",
        "outputId": "3ab00b76-5134-46c4-9fd0-b6f69932e4af"
      },
      "outputs": [
        {
          "data": {
            "image/png": "[encoded data removed]",
            "text/plain": [
              "<Figure size 864x576 with 1 Axes>"
            ]
          },
          "metadata": {},
          "output_type": "display_data"
        }
      ],
      "source": [
        "# Check the ROC curve\n",
        "from sklearn.metrics import roc_curve\n",
        "fpr, tpr, thresholds = roc_curve(y_test_label, y_pred_label)\n",
        "\n",
        "plt.figure(figsize=(12,8))\n",
        "plt.plot(fpr,tpr,label='ROC curve for Logistic Regression')\n",
        "plt.xlabel('False Positive Rate (1 - Specificity)')\n",
        "plt.ylabel('True Positive Rate (Recall)')\n",
        "plt.title('ROC curve')\n",
        "plt.legend(loc='best')\n",
        "plt.show()"
      ]
    },
    {
      "cell_type": "code",
      "execution_count": 64,
      "metadata": {
        "colab": {
          "base_uri": "https://localhost:8080/"
        },
        "id": "t8cAePTZC9PV",
        "outputId": "93c8c30d-506a-434f-a3ed-19480d2dbadd"
      },
      "outputs": [
        {
          "name": "stdout",
          "output_type": "stream",
          "text": [
            "intercept (w_0) = [-0.06303449]\n",
            "weights   (w_1 to w_n): [[-2.83013803e-03 -6.70827352e-02 -3.75348871e-01  3.05435998e-01\n",
            "  -1.19422987e-01 -1.68480421e-01  1.99020553e-01  1.89699826e-02\n",
            "   2.25764259e-01 -2.95677131e-01 -1.37690704e-01  6.77778303e-02\n",
            "  -1.80640438e+00  1.73649151e+00 -4.91286336e-01  6.76851158e-01\n",
            "  -2.55477695e-01 -2.66157382e-05 -1.05250040e-01]]\n"
          ]
        }
      ],
      "source": [
        "# Weighted of features\n",
        "print('intercept (w_0) =', logreg.intercept_)\n",
        "print('weights   (w_1 to w_n):', logreg.coef_)"
      ]
    },
    {
      "cell_type": "code",
      "execution_count": 65,
      "metadata": {
        "colab": {
          "base_uri": "https://localhost:8080/",
          "height": 206
        },
        "id": "yBYSd570C9PV",
        "outputId": "f8990dba-1660-407e-95f6-5886240bfcba"
      },
      "outputs": [
        {
          "data": {
            "text/html": [
              "<div>\n",
              "<style scoped>\n",
              "    .dataframe tbody tr th:only-of-type {\n",
              "        vertical-align: middle;\n",
              "    }\n",
              "\n",
              "    .dataframe tbody tr th {\n",
              "        vertical-align: top;\n",
              "    }\n",
              "\n",
              "    .dataframe thead th {\n",
              "        text-align: right;\n",
              "    }\n",
              "</style>\n",
              "<table border=\"1\" class=\"dataframe\">\n",
              "  <thead>\n",
              "    <tr style=\"text-align: right;\">\n",
              "      <th></th>\n",
              "      <th>feature_names</th>\n",
              "      <th>weight</th>\n",
              "    </tr>\n",
              "  </thead>\n",
              "  <tbody>\n",
              "    <tr>\n",
              "      <th>0</th>\n",
              "      <td>Gender_Male</td>\n",
              "      <td>-0.002830</td>\n",
              "    </tr>\n",
              "    <tr>\n",
              "      <th>1</th>\n",
              "      <td>Gender_Female</td>\n",
              "      <td>-0.067083</td>\n",
              "    </tr>\n",
              "    <tr>\n",
              "      <th>2</th>\n",
              "      <td>Married_No</td>\n",
              "      <td>-0.375349</td>\n",
              "    </tr>\n",
              "    <tr>\n",
              "      <th>3</th>\n",
              "      <td>Married_Yes</td>\n",
              "      <td>0.305436</td>\n",
              "    </tr>\n",
              "    <tr>\n",
              "      <th>4</th>\n",
              "      <td>Dependents_0</td>\n",
              "      <td>-0.119423</td>\n",
              "    </tr>\n",
              "  </tbody>\n",
              "</table>\n",
              "</div>"
            ],
            "text/plain": [
              "   feature_names    weight\n",
              "0    Gender_Male -0.002830\n",
              "1  Gender_Female -0.067083\n",
              "2     Married_No -0.375349\n",
              "3    Married_Yes  0.305436\n",
              "4   Dependents_0 -0.119423"
            ]
          },
          "execution_count": 65,
          "metadata": {},
          "output_type": "execute_result"
        }
      ],
      "source": [
        "weights_df = pd.DataFrame(\n",
        "    data=logreg.coef_.T,\n",
        "    columns=['weight'], \n",
        "    index=X.columns\n",
        ").reset_index().rename(columns={'index':'feature_names'})\n",
        "\n",
        "weights_df.head()"
      ]
    },
    {
      "cell_type": "code",
      "execution_count": 66,
      "metadata": {
        "colab": {
          "base_uri": "https://localhost:8080/",
          "height": 363
        },
        "id": "AdjLgHo2C9PW",
        "outputId": "c00d0063-26b9-42df-903b-f9cd0d7ad23f"
      },
      "outputs": [
        {
          "data": {
            "text/html": [
              "<div>\n",
              "<style scoped>\n",
              "    .dataframe tbody tr th:only-of-type {\n",
              "        vertical-align: middle;\n",
              "    }\n",
              "\n",
              "    .dataframe tbody tr th {\n",
              "        vertical-align: top;\n",
              "    }\n",
              "\n",
              "    .dataframe thead th {\n",
              "        text-align: right;\n",
              "    }\n",
              "</style>\n",
              "<table border=\"1\" class=\"dataframe\">\n",
              "  <thead>\n",
              "    <tr style=\"text-align: right;\">\n",
              "      <th></th>\n",
              "      <th>feature_names</th>\n",
              "      <th>weight</th>\n",
              "      <th>abs_weight</th>\n",
              "    </tr>\n",
              "  </thead>\n",
              "  <tbody>\n",
              "    <tr>\n",
              "      <th>12</th>\n",
              "      <td>Credit_History_0</td>\n",
              "      <td>-1.806404</td>\n",
              "      <td>1.806404</td>\n",
              "    </tr>\n",
              "    <tr>\n",
              "      <th>13</th>\n",
              "      <td>Credit_History_1</td>\n",
              "      <td>1.736492</td>\n",
              "      <td>1.736492</td>\n",
              "    </tr>\n",
              "    <tr>\n",
              "      <th>15</th>\n",
              "      <td>Property_Area_Semiurban</td>\n",
              "      <td>0.676851</td>\n",
              "      <td>0.676851</td>\n",
              "    </tr>\n",
              "    <tr>\n",
              "      <th>14</th>\n",
              "      <td>Property_Area_Rural</td>\n",
              "      <td>-0.491286</td>\n",
              "      <td>0.491286</td>\n",
              "    </tr>\n",
              "    <tr>\n",
              "      <th>2</th>\n",
              "      <td>Married_No</td>\n",
              "      <td>-0.375349</td>\n",
              "      <td>0.375349</td>\n",
              "    </tr>\n",
              "    <tr>\n",
              "      <th>3</th>\n",
              "      <td>Married_Yes</td>\n",
              "      <td>0.305436</td>\n",
              "      <td>0.305436</td>\n",
              "    </tr>\n",
              "    <tr>\n",
              "      <th>9</th>\n",
              "      <td>Education_Graduate_NotGrad</td>\n",
              "      <td>-0.295677</td>\n",
              "      <td>0.295677</td>\n",
              "    </tr>\n",
              "    <tr>\n",
              "      <th>16</th>\n",
              "      <td>Property_Area_Urban</td>\n",
              "      <td>-0.255478</td>\n",
              "      <td>0.255478</td>\n",
              "    </tr>\n",
              "    <tr>\n",
              "      <th>8</th>\n",
              "      <td>Education_Grad</td>\n",
              "      <td>0.225764</td>\n",
              "      <td>0.225764</td>\n",
              "    </tr>\n",
              "    <tr>\n",
              "      <th>6</th>\n",
              "      <td>Dependents_2</td>\n",
              "      <td>0.199021</td>\n",
              "      <td>0.199021</td>\n",
              "    </tr>\n",
              "  </tbody>\n",
              "</table>\n",
              "</div>"
            ],
            "text/plain": [
              "                 feature_names    weight  abs_weight\n",
              "12            Credit_History_0 -1.806404    1.806404\n",
              "13            Credit_History_1  1.736492    1.736492\n",
              "15     Property_Area_Semiurban  0.676851    0.676851\n",
              "14         Property_Area_Rural -0.491286    0.491286\n",
              "2                   Married_No -0.375349    0.375349\n",
              "3                  Married_Yes  0.305436    0.305436\n",
              "9   Education_Graduate_NotGrad -0.295677    0.295677\n",
              "16         Property_Area_Urban -0.255478    0.255478\n",
              "8               Education_Grad  0.225764    0.225764\n",
              "6                 Dependents_2  0.199021    0.199021"
            ]
          },
          "execution_count": 66,
          "metadata": {},
          "output_type": "execute_result"
        }
      ],
      "source": [
        "weights_df['abs_weight'] = weights_df['weight'].abs()\n",
        "weights_df = weights_df.sort_values(by='abs_weight', ascending=False)\n",
        "weights_df.head(10)"
      ]
    },
    {
      "cell_type": "markdown",
      "metadata": {
        "id": "HfOFDW8KC9PW"
      },
      "source": [
        "### Decision Tree"
      ]
    },
    {
      "cell_type": "code",
      "execution_count": 67,
      "metadata": {
        "id": "wEHb4pOrC9PW"
      },
      "outputs": [],
      "source": [
        "from sklearn.tree import DecisionTreeClassifier\n",
        "dtree = DecisionTreeClassifier(criterion=\"gini\",random_state=10,max_depth=3,min_samples_leaf=5)\n",
        "dtree.fit(X_train, y_train)\n",
        "y_pred = dtree.predict(X_test)"
      ]
    },
    {
      "cell_type": "code",
      "execution_count": 68,
      "metadata": {
        "colab": {
          "base_uri": "https://localhost:8080/"
        },
        "id": "Ojo1GVufC9PW",
        "outputId": "cc793f5c-0de1-4ef9-ccb4-df9e83da25bd"
      },
      "outputs": [
        {
          "name": "stdout",
          "output_type": "stream",
          "text": [
            "Training Accuracy:0.823\n",
            "Testing Accuracy:0.805\n"
          ]
        }
      ],
      "source": [
        "print(\"Training Accuracy:{:.3f}\".format(dtree.score(X_train,y_train)))\n",
        "print('Testing Accuracy:{:.3f}'.format(dtree.score(X_test,y_test)))"
      ]
    },
    {
      "cell_type": "code",
      "execution_count": 69,
      "metadata": {
        "colab": {
          "base_uri": "https://localhost:8080/"
        },
        "id": "Szm7ZOb7C9PW",
        "outputId": "aab84bde-427f-4bae-f0bb-cb7abb7b5b8e"
      },
      "outputs": [
        {
          "name": "stdout",
          "output_type": "stream",
          "text": [
            "[[17 21]\n",
            " [ 3 82]]\n"
          ]
        }
      ],
      "source": [
        "print(confusion_matrix(y_test, y_pred))"
      ]
    },
    {
      "cell_type": "markdown",
      "metadata": {
        "id": "bReUcaClC9PW"
      },
      "source": [
        "### Random Forest"
      ]
    },
    {
      "cell_type": "code",
      "execution_count": 70,
      "metadata": {
        "id": "Bt1qwCzQC9PW"
      },
      "outputs": [],
      "source": [
        "from sklearn.ensemble import RandomForestClassifier\n",
        "rfc = RandomForestClassifier(n_estimators=5, criterion='gini', random_state=10)\n",
        "rfc.fit(X_train, y_train)\n",
        "y_pred = rfc.predict(X_test)"
      ]
    },
    {
      "cell_type": "code",
      "execution_count": 71,
      "metadata": {
        "colab": {
          "base_uri": "https://localhost:8080/"
        },
        "id": "Qo_L9rdDC9PW",
        "outputId": "136e7923-8130-440e-ba23-6145f88b3756"
      },
      "outputs": [
        {
          "name": "stdout",
          "output_type": "stream",
          "text": [
            "Training Accuracy:0.965\n",
            "Testing Accuracy:0.715\n"
          ]
        }
      ],
      "source": [
        "print(\"Training Accuracy:{:.3f}\".format(rfc.score(X_train,y_train)))\n",
        "print('Testing Accuracy:{:.3f}'.format(rfc.score(X_test,y_test)))"
      ]
    },
    {
      "cell_type": "code",
      "execution_count": 72,
      "metadata": {
        "colab": {
          "base_uri": "https://localhost:8080/"
        },
        "id": "tGZ0yjepC9PW",
        "outputId": "863b6562-3714-4c4f-99ce-97caf7a85583"
      },
      "outputs": [
        {
          "name": "stdout",
          "output_type": "stream",
          "text": [
            "[[20 18]\n",
            " [17 68]]\n"
          ]
        }
      ],
      "source": [
        "print(confusion_matrix(y_test, y_pred))"
      ]
    },
    {
      "cell_type": "markdown",
      "metadata": {
        "id": "-Ke4qwjLC9PW"
      },
      "source": [
        "## V. Conclusions"
      ]
    },
    {
      "cell_type": "markdown",
      "metadata": {
        "id": "6VYrMASmC9PW"
      },
      "source": [
        "Through descriptive analysis, shows:\n",
        " - Customer's desired loan term is 360 months = 30 years\n",
        " - Number 1: Credit History is extremely important, people with credit history will have easier access to loans\n",
        " - The second factor: Rural and semi-urban areas are the areas that are approved for a lot of loans\n",
        " - The financial situation is not as important as the assumption, instead the bank based on its credit history is probably safer\n",
        " - The next important factors: Dependen = 1, Married = No, Education = Not Graduate indicate these are young people\n",
        "\n",
        "From the above factors, we can imagine a group of opponents with high demand for loans to buy houses:\n",
        " - Characteristics 1: rejuvenation\n",
        " - Characteristics 2: population movement: from rural, semi-urban to urban to buy house\n",
        " - Characteristics 3: inability to make large payments, want to extend the loan period\n",
        " - Characteristics 4: have a reliable credit history"
      ]
    },
    {
      "cell_type": "markdown",
      "metadata": {
        "id": "czyIMO7rC9PW"
      },
      "source": [
        "# C. Some ideals"
      ]
    },
    {
      "cell_type": "markdown",
      "metadata": {
        "id": "MJVFVxIJC9PW"
      },
      "source": [
        "Suppose, a bank operating in the field of home loans, besides relying on the model built from the above data set to approve the loan, can also build some more policies based on the characteristics of the loan customer group:\n",
        "- Designing product packages aimed at young people, low-income people, can be combined with government policies. For example, in Vietnam, the government has both a preferential loan policy for low-income people and a policy to encourage real estate businesses to build low-cost houses.\n",
        "- The desired loan term is mostly very long, the bank can offer a reasonable and long-term interest rate to the customer, together with the customer, plan a suitable, solid, safe and sustainable repayment plan."
      ]
    },
    {
      "cell_type": "markdown",
      "metadata": {
        "id": "uNF8TzocC9PW"
      },
      "source": [
        "Note\n",
        "- This is a small practice exercise with a set of hypothetical data, so there are definitely many shortcomings.\n",
        "- Any suggestions are welcome\n"
      ]
    }
  ],
  "metadata": {
    "colab": {
      "collapsed_sections": [
        "boCxX2dvC9PR",
        "BqMgZZ8kC9PU",
        "1sh59yPYC9PV",
        "HfOFDW8KC9PW",
        "bReUcaClC9PW"
      ],
      "name": "Loan Prediction - Final project.ipynb",
      "provenance": []
    },
    "interpreter": {
      "hash": "f1bea5489aa23cd63e230e4dcb5b779363d5109e91586d43a88239d898cc48a9"
    },
    "kernelspec": {
      "display_name": "Python 3.10.2 64-bit",
      "language": "python",
      "name": "python3"
    },
    "language_info": {
      "codemirror_mode": {
        "name": "ipython",
        "version": 3
      },
      "file_extension": ".py",
      "mimetype": "text/x-python",
      "name": "python",
      "nbconvert_exporter": "python",
      "pygments_lexer": "ipython3",
      "version": "3.10.2"
    },
    "orig_nbformat": 4
  },
  "nbformat": 4,
  "nbformat_minor": 0
}
